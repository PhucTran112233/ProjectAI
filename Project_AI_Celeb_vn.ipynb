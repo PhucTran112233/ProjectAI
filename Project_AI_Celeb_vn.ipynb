{
  "nbformat": 4,
  "nbformat_minor": 0,
  "metadata": {
    "colab": {
      "name": "Project_AI_Celeb_vn.ipynb",
      "provenance": [],
      "authorship_tag": "ABX9TyOollirQKsnsmQ1V/6K1un7",
      "include_colab_link": true
    },
    "kernelspec": {
      "name": "python3",
      "display_name": "Python 3"
    },
    "language_info": {
      "name": "python"
    },
    "accelerator": "GPU",
    "gpuClass": "standard"
  },
  "cells": [
    {
      "cell_type": "markdown",
      "metadata": {
        "id": "view-in-github",
        "colab_type": "text"
      },
      "source": [
        "<a href=\"https://colab.research.google.com/github/PhucTran112233/ProjectAI/blob/main/Project_AI_Celeb_vn.ipynb\" target=\"_parent\"><img src=\"https://colab.research.google.com/assets/colab-badge.svg\" alt=\"Open In Colab\"/></a>"
      ]
    },
    {
      "cell_type": "code",
      "execution_count": null,
      "metadata": {
        "id": "bTxyKGyu5swY"
      },
      "outputs": [],
      "source": [
        "!pip install tensorflowjs"
      ]
    },
    {
      "cell_type": "code",
      "source": [
        "# liên kết Google drive với colab\n",
        "from google.colab import drive\n",
        "drive.mount('/content/drive')"
      ],
      "metadata": {
        "colab": {
          "base_uri": "https://localhost:8080/"
        },
        "id": "AQOV_Z8I5z92",
        "outputId": "405216e4-a71e-4586-badf-3caf8a8ca0fc"
      },
      "execution_count": 1,
      "outputs": [
        {
          "output_type": "stream",
          "name": "stdout",
          "text": [
            "Drive already mounted at /content/drive; to attempt to forcibly remount, call drive.mount(\"/content/drive\", force_remount=True).\n"
          ]
        }
      ]
    },
    {
      "cell_type": "code",
      "source": [
        "# Tải thư viện cần thiết\n",
        "import numpy as np\n",
        "import matplotlib.pyplot as plt\n",
        "import tensorflow as tf\n",
        "import pandas as pd\n",
        "from keras.preprocessing.image import ImageDataGenerator\n",
        "from keras.layers import Dense,Activation,Dropout,Conv2D,MaxPooling2D,Flatten\n",
        "from tensorflow.keras.models import load_model\n",
        "from keras.models import  Sequential\n",
        "from keras import regularizers\n",
        "from keras import layers\n",
        "import tensorflowjs as tfjs\n",
        "from keras.layers import BatchNormalization"
      ],
      "metadata": {
        "id": "omukUFHm57SQ"
      },
      "execution_count": 25,
      "outputs": []
    },
    {
      "cell_type": "code",
      "source": [
        "train_data = '/content/drive/MyDrive/AI_4/Train'\n",
        "val_data =  '/content/drive/MyDrive/AI_4/Validation'"
      ],
      "metadata": {
        "id": "DpVReU8L5_w8"
      },
      "execution_count": 26,
      "outputs": []
    },
    {
      "cell_type": "code",
      "source": [
        "#preprocessing\n",
        "train_scale = ImageDataGenerator(rescale=1./255,\n",
        "                                   rotation_range=0.2,\n",
        "                                   width_shift_range=0.2,   \n",
        "                                   height_shift_range=0.2,\n",
        "                                   horizontal_flip=True, \n",
        "                                   vertical_flip=True,\n",
        "                                   validation_split=0.2)\n",
        "\n",
        "train_input = train_scale.flow_from_directory(train_data,\n",
        "                        target_size=(128, 128),\n",
        "                        batch_size=32,\n",
        "                        class_mode=\"categorical\")\n",
        "\n",
        "val_scale = ImageDataGenerator(rescale=1./255)\n",
        "\n",
        "val_input = val_scale.flow_from_directory(val_data,\n",
        "                        target_size=(128,128),\n",
        "                        batch_size=32,\n",
        "                        class_mode=\"categorical\")"
      ],
      "metadata": {
        "colab": {
          "base_uri": "https://localhost:8080/"
        },
        "id": "NF5Lkdmd6BVH",
        "outputId": "792d3869-bf54-4844-9f75-54344aaee10e"
      },
      "execution_count": 27,
      "outputs": [
        {
          "output_type": "stream",
          "name": "stdout",
          "text": [
            "Found 957 images belonging to 20 classes.\n",
            "Found 95 images belonging to 20 classes.\n"
          ]
        }
      ]
    },
    {
      "cell_type": "code",
      "source": [
        "#MODEL CNN\n",
        "model=Sequential()\n",
        "\n",
        "#LAYER 1\n",
        "model.add(Conv2D(32,(3,3),activation='relu',kernel_initializer='he_uniform',padding='same', input_shape=(128,128,3)))\n",
        "model.add(BatchNormalization())\n",
        "model.add(MaxPooling2D((2,2)))\n",
        "model.add(Dropout(0.25))\n",
        "#LAYER 2\n",
        "model.add(Conv2D(64,(3,3),activation='relu',kernel_initializer='he_uniform',padding='same'))\n",
        "model.add(BatchNormalization())\n",
        "model.add(MaxPooling2D((2,2)))\n",
        "model.add(Dropout(0.25))\n",
        "#LAYER 3\n",
        "model.add(Conv2D(128,(3,3),activation='relu',kernel_initializer='he_uniform',padding='same'))\n",
        "model.add(MaxPooling2D((2,2)))\n",
        "model.add(Dropout(0.25))\n",
        "\n",
        "\n",
        "#FULLY CONNECTED LAYER\n",
        "#Flatten Layer is used to change the dimension of output from convolution layer, which has 3D, to 2D output\n",
        "model.add(Flatten())\n",
        "\n",
        "#Dense(512) is a fully-connected layer with 128 hidden units\n",
        "model.add(Dense(512,activation='relu'))\n",
        "model.add(Dropout(0.5))\n",
        "model.add(Dense(512,activation='relu'))\n",
        "model.add(Dropout(0.5))\n",
        "\n",
        "model.add(Dense(20,activation='softmax'))  #20 class_name\n",
        "model.summary()"
      ],
      "metadata": {
        "colab": {
          "base_uri": "https://localhost:8080/"
        },
        "id": "QZvvelW96FlA",
        "outputId": "2489d505-453c-4e8a-d326-8227f29c6dd4"
      },
      "execution_count": 28,
      "outputs": [
        {
          "output_type": "stream",
          "name": "stdout",
          "text": [
            "Model: \"sequential_4\"\n",
            "_________________________________________________________________\n",
            " Layer (type)                Output Shape              Param #   \n",
            "=================================================================\n",
            " conv2d_12 (Conv2D)          (None, 128, 128, 32)      896       \n",
            "                                                                 \n",
            " batch_normalization_12 (Bat  (None, 128, 128, 32)     128       \n",
            " chNormalization)                                                \n",
            "                                                                 \n",
            " max_pooling2d_12 (MaxPoolin  (None, 64, 64, 32)       0         \n",
            " g2D)                                                            \n",
            "                                                                 \n",
            " dropout_20 (Dropout)        (None, 64, 64, 32)        0         \n",
            "                                                                 \n",
            " conv2d_13 (Conv2D)          (None, 64, 64, 64)        18496     \n",
            "                                                                 \n",
            " batch_normalization_13 (Bat  (None, 64, 64, 64)       256       \n",
            " chNormalization)                                                \n",
            "                                                                 \n",
            " max_pooling2d_13 (MaxPoolin  (None, 32, 32, 64)       0         \n",
            " g2D)                                                            \n",
            "                                                                 \n",
            " dropout_21 (Dropout)        (None, 32, 32, 64)        0         \n",
            "                                                                 \n",
            " conv2d_14 (Conv2D)          (None, 32, 32, 128)       73856     \n",
            "                                                                 \n",
            " max_pooling2d_14 (MaxPoolin  (None, 16, 16, 128)      0         \n",
            " g2D)                                                            \n",
            "                                                                 \n",
            " dropout_22 (Dropout)        (None, 16, 16, 128)       0         \n",
            "                                                                 \n",
            " flatten_4 (Flatten)         (None, 32768)             0         \n",
            "                                                                 \n",
            " dense_12 (Dense)            (None, 512)               16777728  \n",
            "                                                                 \n",
            " dropout_23 (Dropout)        (None, 512)               0         \n",
            "                                                                 \n",
            " dense_13 (Dense)            (None, 512)               262656    \n",
            "                                                                 \n",
            " dropout_24 (Dropout)        (None, 512)               0         \n",
            "                                                                 \n",
            " dense_14 (Dense)            (None, 20)                10260     \n",
            "                                                                 \n",
            "=================================================================\n",
            "Total params: 17,144,276\n",
            "Trainable params: 17,144,084\n",
            "Non-trainable params: 192\n",
            "_________________________________________________________________\n"
          ]
        }
      ]
    },
    {
      "cell_type": "code",
      "source": [
        "from tensorflow.keras.optimizers import Adam\n",
        "opt = Adam(learning_rate=0.005)\n",
        "model.compile(loss='categorical_crossentropy',optimizer='adam',metrics=['accuracy'])"
      ],
      "metadata": {
        "id": "KDP_JmW-65Ra"
      },
      "execution_count": 29,
      "outputs": []
    },
    {
      "cell_type": "code",
      "source": [
        "face_train = model.fit(train_input,batch_size=32,epochs=150,verbose=1,validation_data=val_input)"
      ],
      "metadata": {
        "colab": {
          "base_uri": "https://localhost:8080/"
        },
        "id": "DaQ6uoFr7Jqq",
        "outputId": "658611dc-9c44-4de9-fb3e-4767c136e4c8"
      },
      "execution_count": 31,
      "outputs": [
        {
          "output_type": "stream",
          "name": "stdout",
          "text": [
            "Epoch 1/150\n",
            "30/30 [==============================] - 6s 206ms/step - loss: 2.4913 - accuracy: 0.2623 - val_loss: 2.4706 - val_accuracy: 0.2316\n",
            "Epoch 2/150\n",
            "30/30 [==============================] - 6s 202ms/step - loss: 2.5111 - accuracy: 0.2330 - val_loss: 2.9034 - val_accuracy: 0.0737\n",
            "Epoch 3/150\n",
            "30/30 [==============================] - 6s 202ms/step - loss: 2.4802 - accuracy: 0.2529 - val_loss: 2.7147 - val_accuracy: 0.1895\n",
            "Epoch 4/150\n",
            "30/30 [==============================] - 6s 201ms/step - loss: 2.4776 - accuracy: 0.2602 - val_loss: 2.3648 - val_accuracy: 0.2632\n",
            "Epoch 5/150\n",
            "30/30 [==============================] - 6s 201ms/step - loss: 2.5125 - accuracy: 0.2299 - val_loss: 2.8667 - val_accuracy: 0.1789\n",
            "Epoch 6/150\n",
            "30/30 [==============================] - 6s 199ms/step - loss: 2.5169 - accuracy: 0.2456 - val_loss: 2.7738 - val_accuracy: 0.1789\n",
            "Epoch 7/150\n",
            "30/30 [==============================] - 6s 204ms/step - loss: 2.4647 - accuracy: 0.2508 - val_loss: 2.4133 - val_accuracy: 0.2000\n",
            "Epoch 8/150\n",
            "30/30 [==============================] - 6s 199ms/step - loss: 2.4216 - accuracy: 0.2769 - val_loss: 2.3309 - val_accuracy: 0.2526\n",
            "Epoch 9/150\n",
            "30/30 [==============================] - 6s 202ms/step - loss: 2.3911 - accuracy: 0.2738 - val_loss: 2.4377 - val_accuracy: 0.2211\n",
            "Epoch 10/150\n",
            "30/30 [==============================] - 6s 206ms/step - loss: 2.3498 - accuracy: 0.3009 - val_loss: 2.2686 - val_accuracy: 0.2632\n",
            "Epoch 11/150\n",
            "30/30 [==============================] - 6s 209ms/step - loss: 2.4334 - accuracy: 0.2623 - val_loss: 2.7089 - val_accuracy: 0.1895\n",
            "Epoch 12/150\n",
            "30/30 [==============================] - 6s 204ms/step - loss: 2.3935 - accuracy: 0.2665 - val_loss: 2.3371 - val_accuracy: 0.2421\n",
            "Epoch 13/150\n",
            "30/30 [==============================] - 6s 200ms/step - loss: 2.4219 - accuracy: 0.2769 - val_loss: 2.6988 - val_accuracy: 0.1789\n",
            "Epoch 14/150\n",
            "30/30 [==============================] - 6s 202ms/step - loss: 2.4098 - accuracy: 0.2706 - val_loss: 2.2386 - val_accuracy: 0.2842\n",
            "Epoch 15/150\n",
            "30/30 [==============================] - 6s 199ms/step - loss: 2.3519 - accuracy: 0.2905 - val_loss: 2.3258 - val_accuracy: 0.2737\n",
            "Epoch 16/150\n",
            "30/30 [==============================] - 6s 200ms/step - loss: 2.3686 - accuracy: 0.2915 - val_loss: 2.3248 - val_accuracy: 0.2526\n",
            "Epoch 17/150\n",
            "30/30 [==============================] - 6s 203ms/step - loss: 2.4076 - accuracy: 0.2790 - val_loss: 3.0941 - val_accuracy: 0.1684\n",
            "Epoch 18/150\n",
            "30/30 [==============================] - 6s 202ms/step - loss: 2.4295 - accuracy: 0.2654 - val_loss: 2.2965 - val_accuracy: 0.2737\n",
            "Epoch 19/150\n",
            "30/30 [==============================] - 6s 202ms/step - loss: 2.3208 - accuracy: 0.2853 - val_loss: 2.5819 - val_accuracy: 0.2211\n",
            "Epoch 20/150\n",
            "30/30 [==============================] - 6s 199ms/step - loss: 2.3801 - accuracy: 0.2832 - val_loss: 2.2661 - val_accuracy: 0.2947\n",
            "Epoch 21/150\n",
            "30/30 [==============================] - 6s 200ms/step - loss: 2.3506 - accuracy: 0.2874 - val_loss: 2.0496 - val_accuracy: 0.3474\n",
            "Epoch 22/150\n",
            "30/30 [==============================] - 6s 200ms/step - loss: 2.3167 - accuracy: 0.2947 - val_loss: 2.2870 - val_accuracy: 0.2632\n",
            "Epoch 23/150\n",
            "30/30 [==============================] - 6s 201ms/step - loss: 2.2814 - accuracy: 0.2978 - val_loss: 2.1829 - val_accuracy: 0.2526\n",
            "Epoch 24/150\n",
            "30/30 [==============================] - 6s 201ms/step - loss: 2.3239 - accuracy: 0.2853 - val_loss: 2.1748 - val_accuracy: 0.2632\n",
            "Epoch 25/150\n",
            "30/30 [==============================] - 6s 199ms/step - loss: 2.3047 - accuracy: 0.3041 - val_loss: 2.0513 - val_accuracy: 0.3474\n",
            "Epoch 26/150\n",
            "30/30 [==============================] - 6s 204ms/step - loss: 2.3100 - accuracy: 0.2926 - val_loss: 2.5400 - val_accuracy: 0.2632\n",
            "Epoch 27/150\n",
            "30/30 [==============================] - 6s 199ms/step - loss: 2.3703 - accuracy: 0.2832 - val_loss: 2.1099 - val_accuracy: 0.3474\n",
            "Epoch 28/150\n",
            "30/30 [==============================] - 6s 201ms/step - loss: 2.2287 - accuracy: 0.3062 - val_loss: 2.1679 - val_accuracy: 0.3053\n",
            "Epoch 29/150\n",
            "30/30 [==============================] - 6s 198ms/step - loss: 2.2170 - accuracy: 0.3333 - val_loss: 2.1375 - val_accuracy: 0.3368\n",
            "Epoch 30/150\n",
            "30/30 [==============================] - 7s 234ms/step - loss: 2.2971 - accuracy: 0.3020 - val_loss: 2.6178 - val_accuracy: 0.1789\n",
            "Epoch 31/150\n",
            "30/30 [==============================] - 6s 203ms/step - loss: 2.2619 - accuracy: 0.2915 - val_loss: 2.3578 - val_accuracy: 0.2421\n",
            "Epoch 32/150\n",
            "30/30 [==============================] - 6s 199ms/step - loss: 2.2638 - accuracy: 0.3030 - val_loss: 2.3177 - val_accuracy: 0.2421\n",
            "Epoch 33/150\n",
            "30/30 [==============================] - 6s 199ms/step - loss: 2.2867 - accuracy: 0.3103 - val_loss: 2.3079 - val_accuracy: 0.2737\n",
            "Epoch 34/150\n",
            "30/30 [==============================] - 6s 199ms/step - loss: 2.2194 - accuracy: 0.3344 - val_loss: 2.0636 - val_accuracy: 0.2947\n",
            "Epoch 35/150\n",
            "30/30 [==============================] - 6s 200ms/step - loss: 2.2766 - accuracy: 0.3187 - val_loss: 2.0940 - val_accuracy: 0.3684\n",
            "Epoch 36/150\n",
            "30/30 [==============================] - 6s 201ms/step - loss: 2.2924 - accuracy: 0.2957 - val_loss: 2.0995 - val_accuracy: 0.3263\n",
            "Epoch 37/150\n",
            "30/30 [==============================] - 6s 202ms/step - loss: 2.2295 - accuracy: 0.3375 - val_loss: 1.9985 - val_accuracy: 0.3684\n",
            "Epoch 38/150\n",
            "30/30 [==============================] - 6s 200ms/step - loss: 2.1799 - accuracy: 0.3239 - val_loss: 2.2779 - val_accuracy: 0.2421\n",
            "Epoch 39/150\n",
            "30/30 [==============================] - 6s 198ms/step - loss: 2.1965 - accuracy: 0.3208 - val_loss: 2.0827 - val_accuracy: 0.2737\n",
            "Epoch 40/150\n",
            "30/30 [==============================] - 6s 200ms/step - loss: 2.2097 - accuracy: 0.3365 - val_loss: 2.0566 - val_accuracy: 0.3684\n",
            "Epoch 41/150\n",
            "30/30 [==============================] - 6s 199ms/step - loss: 2.1600 - accuracy: 0.3511 - val_loss: 2.1774 - val_accuracy: 0.2632\n",
            "Epoch 42/150\n",
            "30/30 [==============================] - 6s 202ms/step - loss: 2.1353 - accuracy: 0.3469 - val_loss: 1.9833 - val_accuracy: 0.3684\n",
            "Epoch 43/150\n",
            "30/30 [==============================] - 6s 201ms/step - loss: 2.1563 - accuracy: 0.3354 - val_loss: 2.5028 - val_accuracy: 0.2632\n",
            "Epoch 44/150\n",
            "30/30 [==============================] - 6s 206ms/step - loss: 2.1302 - accuracy: 0.3553 - val_loss: 3.1213 - val_accuracy: 0.1895\n",
            "Epoch 45/150\n",
            "30/30 [==============================] - 6s 201ms/step - loss: 2.1432 - accuracy: 0.3417 - val_loss: 2.7086 - val_accuracy: 0.2105\n",
            "Epoch 46/150\n",
            "30/30 [==============================] - 6s 202ms/step - loss: 2.0797 - accuracy: 0.3448 - val_loss: 2.0289 - val_accuracy: 0.3579\n",
            "Epoch 47/150\n",
            "30/30 [==============================] - 6s 201ms/step - loss: 2.1195 - accuracy: 0.3459 - val_loss: 2.8437 - val_accuracy: 0.2421\n",
            "Epoch 48/150\n",
            "30/30 [==============================] - 6s 201ms/step - loss: 2.1777 - accuracy: 0.3438 - val_loss: 1.9459 - val_accuracy: 0.3684\n",
            "Epoch 49/150\n",
            "30/30 [==============================] - 6s 200ms/step - loss: 2.1475 - accuracy: 0.3354 - val_loss: 2.2718 - val_accuracy: 0.3263\n",
            "Epoch 50/150\n",
            "30/30 [==============================] - 6s 201ms/step - loss: 2.2009 - accuracy: 0.3438 - val_loss: 2.2094 - val_accuracy: 0.2947\n",
            "Epoch 51/150\n",
            "30/30 [==============================] - 6s 202ms/step - loss: 2.1710 - accuracy: 0.3542 - val_loss: 2.0596 - val_accuracy: 0.2947\n",
            "Epoch 52/150\n",
            "30/30 [==============================] - 6s 203ms/step - loss: 2.1333 - accuracy: 0.3365 - val_loss: 2.1127 - val_accuracy: 0.3474\n",
            "Epoch 53/150\n",
            "30/30 [==============================] - 6s 200ms/step - loss: 2.1061 - accuracy: 0.3636 - val_loss: 2.2595 - val_accuracy: 0.2632\n",
            "Epoch 54/150\n",
            "30/30 [==============================] - 6s 200ms/step - loss: 2.1180 - accuracy: 0.3553 - val_loss: 2.2145 - val_accuracy: 0.2632\n",
            "Epoch 55/150\n",
            "30/30 [==============================] - 6s 200ms/step - loss: 2.1090 - accuracy: 0.3772 - val_loss: 2.0304 - val_accuracy: 0.3053\n",
            "Epoch 56/150\n",
            "30/30 [==============================] - 6s 204ms/step - loss: 2.1206 - accuracy: 0.3375 - val_loss: 1.9040 - val_accuracy: 0.3684\n",
            "Epoch 57/150\n",
            "30/30 [==============================] - 6s 204ms/step - loss: 2.0797 - accuracy: 0.3438 - val_loss: 1.9944 - val_accuracy: 0.3474\n",
            "Epoch 58/150\n",
            "30/30 [==============================] - 6s 199ms/step - loss: 2.0283 - accuracy: 0.3887 - val_loss: 2.0837 - val_accuracy: 0.3263\n",
            "Epoch 59/150\n",
            "30/30 [==============================] - 6s 198ms/step - loss: 2.0836 - accuracy: 0.3751 - val_loss: 2.4089 - val_accuracy: 0.2842\n",
            "Epoch 60/150\n",
            "30/30 [==============================] - 6s 204ms/step - loss: 2.0659 - accuracy: 0.3730 - val_loss: 1.9064 - val_accuracy: 0.3684\n",
            "Epoch 61/150\n",
            "30/30 [==============================] - 6s 206ms/step - loss: 2.0437 - accuracy: 0.3720 - val_loss: 2.1072 - val_accuracy: 0.3053\n",
            "Epoch 62/150\n",
            "30/30 [==============================] - 6s 203ms/step - loss: 2.0586 - accuracy: 0.3657 - val_loss: 2.1211 - val_accuracy: 0.3053\n",
            "Epoch 63/150\n",
            "30/30 [==============================] - 6s 202ms/step - loss: 2.0090 - accuracy: 0.3804 - val_loss: 2.0359 - val_accuracy: 0.3368\n",
            "Epoch 64/150\n",
            "30/30 [==============================] - 7s 238ms/step - loss: 2.0802 - accuracy: 0.3689 - val_loss: 1.8095 - val_accuracy: 0.3158\n",
            "Epoch 65/150\n",
            "30/30 [==============================] - 6s 202ms/step - loss: 2.0319 - accuracy: 0.3751 - val_loss: 1.9347 - val_accuracy: 0.4000\n",
            "Epoch 66/150\n",
            "30/30 [==============================] - 6s 203ms/step - loss: 2.0315 - accuracy: 0.3710 - val_loss: 2.1435 - val_accuracy: 0.2737\n",
            "Epoch 67/150\n",
            "30/30 [==============================] - 6s 204ms/step - loss: 2.0213 - accuracy: 0.3877 - val_loss: 1.8307 - val_accuracy: 0.3684\n",
            "Epoch 68/150\n",
            "30/30 [==============================] - 6s 200ms/step - loss: 2.0442 - accuracy: 0.3804 - val_loss: 1.8340 - val_accuracy: 0.3474\n",
            "Epoch 69/150\n",
            "30/30 [==============================] - 6s 202ms/step - loss: 2.0395 - accuracy: 0.3553 - val_loss: 1.8975 - val_accuracy: 0.3263\n",
            "Epoch 70/150\n",
            "30/30 [==============================] - 6s 200ms/step - loss: 2.0718 - accuracy: 0.3824 - val_loss: 1.8159 - val_accuracy: 0.3579\n",
            "Epoch 71/150\n",
            "30/30 [==============================] - 6s 202ms/step - loss: 2.0433 - accuracy: 0.3605 - val_loss: 2.0341 - val_accuracy: 0.3474\n",
            "Epoch 72/150\n",
            "30/30 [==============================] - 6s 202ms/step - loss: 2.0000 - accuracy: 0.3950 - val_loss: 1.8272 - val_accuracy: 0.3895\n",
            "Epoch 73/150\n",
            "30/30 [==============================] - 6s 199ms/step - loss: 2.0001 - accuracy: 0.3845 - val_loss: 1.9330 - val_accuracy: 0.3895\n",
            "Epoch 74/150\n",
            "30/30 [==============================] - 6s 199ms/step - loss: 1.9918 - accuracy: 0.3710 - val_loss: 1.8615 - val_accuracy: 0.4000\n",
            "Epoch 75/150\n",
            "30/30 [==============================] - 6s 201ms/step - loss: 1.9241 - accuracy: 0.4096 - val_loss: 1.7388 - val_accuracy: 0.4000\n",
            "Epoch 76/150\n",
            "30/30 [==============================] - 6s 202ms/step - loss: 1.9406 - accuracy: 0.3992 - val_loss: 2.0794 - val_accuracy: 0.3158\n",
            "Epoch 77/150\n",
            "30/30 [==============================] - 6s 200ms/step - loss: 1.9450 - accuracy: 0.4232 - val_loss: 1.9504 - val_accuracy: 0.3789\n",
            "Epoch 78/150\n",
            "30/30 [==============================] - 6s 199ms/step - loss: 1.9573 - accuracy: 0.3950 - val_loss: 2.0130 - val_accuracy: 0.3263\n",
            "Epoch 79/150\n",
            "30/30 [==============================] - 6s 199ms/step - loss: 1.9637 - accuracy: 0.3950 - val_loss: 1.9084 - val_accuracy: 0.4421\n",
            "Epoch 80/150\n",
            "30/30 [==============================] - 6s 200ms/step - loss: 1.9315 - accuracy: 0.4013 - val_loss: 2.1168 - val_accuracy: 0.3579\n",
            "Epoch 81/150\n",
            "30/30 [==============================] - 6s 205ms/step - loss: 1.9515 - accuracy: 0.4023 - val_loss: 1.7427 - val_accuracy: 0.4000\n",
            "Epoch 82/150\n",
            "30/30 [==============================] - 6s 201ms/step - loss: 1.9710 - accuracy: 0.4086 - val_loss: 1.9920 - val_accuracy: 0.4105\n",
            "Epoch 83/150\n",
            "30/30 [==============================] - 6s 200ms/step - loss: 1.8699 - accuracy: 0.4284 - val_loss: 1.8358 - val_accuracy: 0.4000\n",
            "Epoch 84/150\n",
            "30/30 [==============================] - 6s 201ms/step - loss: 1.9177 - accuracy: 0.4169 - val_loss: 1.7575 - val_accuracy: 0.4421\n",
            "Epoch 85/150\n",
            "30/30 [==============================] - 6s 203ms/step - loss: 1.8911 - accuracy: 0.4201 - val_loss: 1.6569 - val_accuracy: 0.4632\n",
            "Epoch 86/150\n",
            "30/30 [==============================] - 6s 202ms/step - loss: 1.9088 - accuracy: 0.4274 - val_loss: 1.6798 - val_accuracy: 0.4632\n",
            "Epoch 87/150\n",
            "30/30 [==============================] - 6s 200ms/step - loss: 1.9696 - accuracy: 0.3835 - val_loss: 1.9650 - val_accuracy: 0.4632\n",
            "Epoch 88/150\n",
            "30/30 [==============================] - 6s 201ms/step - loss: 1.9107 - accuracy: 0.4107 - val_loss: 1.9731 - val_accuracy: 0.3789\n",
            "Epoch 89/150\n",
            "30/30 [==============================] - 6s 201ms/step - loss: 1.9381 - accuracy: 0.4180 - val_loss: 1.9041 - val_accuracy: 0.4211\n",
            "Epoch 90/150\n",
            "30/30 [==============================] - 6s 201ms/step - loss: 2.0128 - accuracy: 0.3866 - val_loss: 1.8101 - val_accuracy: 0.4000\n",
            "Epoch 91/150\n",
            "30/30 [==============================] - 6s 201ms/step - loss: 1.9086 - accuracy: 0.4180 - val_loss: 1.6600 - val_accuracy: 0.4000\n",
            "Epoch 92/150\n",
            "30/30 [==============================] - 6s 207ms/step - loss: 1.9001 - accuracy: 0.4305 - val_loss: 1.7547 - val_accuracy: 0.4421\n",
            "Epoch 93/150\n",
            "30/30 [==============================] - 6s 196ms/step - loss: 1.8610 - accuracy: 0.4357 - val_loss: 1.7855 - val_accuracy: 0.4000\n",
            "Epoch 94/150\n",
            "30/30 [==============================] - 6s 199ms/step - loss: 1.8012 - accuracy: 0.4556 - val_loss: 1.5727 - val_accuracy: 0.4211\n",
            "Epoch 95/150\n",
            "30/30 [==============================] - 6s 202ms/step - loss: 1.9109 - accuracy: 0.4180 - val_loss: 1.9030 - val_accuracy: 0.3579\n",
            "Epoch 96/150\n",
            "30/30 [==============================] - 6s 204ms/step - loss: 1.8973 - accuracy: 0.4138 - val_loss: 1.6718 - val_accuracy: 0.3474\n",
            "Epoch 97/150\n",
            "30/30 [==============================] - 6s 199ms/step - loss: 1.8597 - accuracy: 0.4232 - val_loss: 1.8323 - val_accuracy: 0.4211\n",
            "Epoch 98/150\n",
            "30/30 [==============================] - 6s 200ms/step - loss: 1.8677 - accuracy: 0.4138 - val_loss: 1.6588 - val_accuracy: 0.4211\n",
            "Epoch 99/150\n",
            "30/30 [==============================] - 6s 200ms/step - loss: 1.8549 - accuracy: 0.4242 - val_loss: 1.6143 - val_accuracy: 0.4421\n",
            "Epoch 100/150\n",
            "30/30 [==============================] - 6s 200ms/step - loss: 1.8571 - accuracy: 0.4284 - val_loss: 1.7311 - val_accuracy: 0.3684\n",
            "Epoch 101/150\n",
            "30/30 [==============================] - 6s 202ms/step - loss: 1.8090 - accuracy: 0.4326 - val_loss: 1.7942 - val_accuracy: 0.4211\n",
            "Epoch 102/150\n",
            "30/30 [==============================] - 6s 201ms/step - loss: 1.9595 - accuracy: 0.4211 - val_loss: 1.4605 - val_accuracy: 0.4632\n",
            "Epoch 103/150\n",
            "30/30 [==============================] - 6s 201ms/step - loss: 1.8867 - accuracy: 0.4326 - val_loss: 2.4946 - val_accuracy: 0.3053\n",
            "Epoch 104/150\n",
            "30/30 [==============================] - 6s 201ms/step - loss: 1.8342 - accuracy: 0.4389 - val_loss: 1.7019 - val_accuracy: 0.4632\n",
            "Epoch 105/150\n",
            "30/30 [==============================] - 7s 238ms/step - loss: 1.7940 - accuracy: 0.4451 - val_loss: 1.7600 - val_accuracy: 0.4316\n",
            "Epoch 106/150\n",
            "30/30 [==============================] - 6s 202ms/step - loss: 1.8265 - accuracy: 0.4253 - val_loss: 1.5178 - val_accuracy: 0.4842\n",
            "Epoch 107/150\n",
            "30/30 [==============================] - 6s 201ms/step - loss: 1.8246 - accuracy: 0.4410 - val_loss: 1.5373 - val_accuracy: 0.5053\n",
            "Epoch 108/150\n",
            "30/30 [==============================] - 6s 201ms/step - loss: 1.8404 - accuracy: 0.4274 - val_loss: 1.8636 - val_accuracy: 0.4526\n",
            "Epoch 109/150\n",
            "30/30 [==============================] - 6s 202ms/step - loss: 1.8123 - accuracy: 0.4326 - val_loss: 1.5623 - val_accuracy: 0.5263\n",
            "Epoch 110/150\n",
            "30/30 [==============================] - 6s 203ms/step - loss: 1.8185 - accuracy: 0.4357 - val_loss: 2.4439 - val_accuracy: 0.3474\n",
            "Epoch 111/150\n",
            "30/30 [==============================] - 6s 205ms/step - loss: 1.8118 - accuracy: 0.4389 - val_loss: 1.7202 - val_accuracy: 0.4842\n",
            "Epoch 112/150\n",
            "30/30 [==============================] - 6s 201ms/step - loss: 1.8305 - accuracy: 0.4399 - val_loss: 2.2829 - val_accuracy: 0.2421\n",
            "Epoch 113/150\n",
            "30/30 [==============================] - 6s 201ms/step - loss: 1.8219 - accuracy: 0.4410 - val_loss: 2.2380 - val_accuracy: 0.3579\n",
            "Epoch 114/150\n",
            "30/30 [==============================] - 6s 199ms/step - loss: 1.8174 - accuracy: 0.4305 - val_loss: 1.6754 - val_accuracy: 0.4737\n",
            "Epoch 115/150\n",
            "30/30 [==============================] - 6s 202ms/step - loss: 1.7688 - accuracy: 0.4723 - val_loss: 1.6023 - val_accuracy: 0.5368\n",
            "Epoch 116/150\n",
            "30/30 [==============================] - 6s 199ms/step - loss: 1.7527 - accuracy: 0.4587 - val_loss: 1.4976 - val_accuracy: 0.5263\n",
            "Epoch 117/150\n",
            "30/30 [==============================] - 6s 197ms/step - loss: 1.8342 - accuracy: 0.4222 - val_loss: 1.5398 - val_accuracy: 0.4947\n",
            "Epoch 118/150\n",
            "30/30 [==============================] - 6s 198ms/step - loss: 1.7574 - accuracy: 0.4389 - val_loss: 1.7342 - val_accuracy: 0.4842\n",
            "Epoch 119/150\n",
            "30/30 [==============================] - 6s 201ms/step - loss: 1.7427 - accuracy: 0.4765 - val_loss: 1.6034 - val_accuracy: 0.5053\n",
            "Epoch 120/150\n",
            "30/30 [==============================] - 6s 201ms/step - loss: 1.7621 - accuracy: 0.4504 - val_loss: 1.8407 - val_accuracy: 0.4526\n",
            "Epoch 121/150\n",
            "30/30 [==============================] - 6s 203ms/step - loss: 1.7842 - accuracy: 0.4451 - val_loss: 1.6846 - val_accuracy: 0.4737\n",
            "Epoch 122/150\n",
            "30/30 [==============================] - 6s 198ms/step - loss: 1.7691 - accuracy: 0.4504 - val_loss: 1.8403 - val_accuracy: 0.3789\n",
            "Epoch 123/150\n",
            "30/30 [==============================] - 6s 202ms/step - loss: 1.6936 - accuracy: 0.4671 - val_loss: 2.1878 - val_accuracy: 0.3053\n",
            "Epoch 124/150\n",
            "30/30 [==============================] - 6s 198ms/step - loss: 1.6702 - accuracy: 0.4765 - val_loss: 1.7325 - val_accuracy: 0.4105\n",
            "Epoch 125/150\n",
            "30/30 [==============================] - 6s 202ms/step - loss: 1.7536 - accuracy: 0.4681 - val_loss: 1.8063 - val_accuracy: 0.3895\n",
            "Epoch 126/150\n",
            "30/30 [==============================] - 6s 201ms/step - loss: 1.6840 - accuracy: 0.4869 - val_loss: 1.8646 - val_accuracy: 0.4000\n",
            "Epoch 127/150\n",
            "30/30 [==============================] - 6s 199ms/step - loss: 1.7369 - accuracy: 0.4702 - val_loss: 2.3905 - val_accuracy: 0.2211\n",
            "Epoch 128/150\n",
            "30/30 [==============================] - 6s 199ms/step - loss: 1.7405 - accuracy: 0.4629 - val_loss: 1.7032 - val_accuracy: 0.4000\n",
            "Epoch 129/150\n",
            "30/30 [==============================] - 6s 198ms/step - loss: 1.7076 - accuracy: 0.4671 - val_loss: 2.4917 - val_accuracy: 0.2842\n",
            "Epoch 130/150\n",
            "30/30 [==============================] - 6s 197ms/step - loss: 1.7665 - accuracy: 0.4545 - val_loss: 1.5428 - val_accuracy: 0.4947\n",
            "Epoch 131/150\n",
            "30/30 [==============================] - 6s 197ms/step - loss: 1.7484 - accuracy: 0.4587 - val_loss: 1.7674 - val_accuracy: 0.4526\n",
            "Epoch 132/150\n",
            "30/30 [==============================] - 6s 200ms/step - loss: 1.7016 - accuracy: 0.4681 - val_loss: 1.5869 - val_accuracy: 0.4316\n",
            "Epoch 133/150\n",
            "30/30 [==============================] - 6s 199ms/step - loss: 1.7130 - accuracy: 0.4608 - val_loss: 1.6967 - val_accuracy: 0.4526\n",
            "Epoch 134/150\n",
            "30/30 [==============================] - 6s 200ms/step - loss: 1.6454 - accuracy: 0.4869 - val_loss: 1.5818 - val_accuracy: 0.5158\n",
            "Epoch 135/150\n",
            "30/30 [==============================] - 6s 199ms/step - loss: 1.7783 - accuracy: 0.4629 - val_loss: 1.5491 - val_accuracy: 0.4737\n",
            "Epoch 136/150\n",
            "30/30 [==============================] - 6s 202ms/step - loss: 1.6828 - accuracy: 0.4744 - val_loss: 1.4902 - val_accuracy: 0.5474\n",
            "Epoch 137/150\n",
            "30/30 [==============================] - 6s 199ms/step - loss: 1.6832 - accuracy: 0.4807 - val_loss: 2.4592 - val_accuracy: 0.3263\n",
            "Epoch 138/150\n",
            "30/30 [==============================] - 6s 199ms/step - loss: 1.7375 - accuracy: 0.4566 - val_loss: 1.7215 - val_accuracy: 0.5053\n",
            "Epoch 139/150\n",
            "30/30 [==============================] - 6s 199ms/step - loss: 1.6653 - accuracy: 0.4911 - val_loss: 1.5366 - val_accuracy: 0.5158\n",
            "Epoch 140/150\n",
            "30/30 [==============================] - 6s 200ms/step - loss: 1.6147 - accuracy: 0.5068 - val_loss: 1.9722 - val_accuracy: 0.4421\n",
            "Epoch 141/150\n",
            "30/30 [==============================] - 6s 201ms/step - loss: 1.6351 - accuracy: 0.4953 - val_loss: 1.4834 - val_accuracy: 0.5579\n",
            "Epoch 142/150\n",
            "30/30 [==============================] - 7s 240ms/step - loss: 1.6484 - accuracy: 0.4890 - val_loss: 1.6938 - val_accuracy: 0.4526\n",
            "Epoch 143/150\n",
            "30/30 [==============================] - 6s 199ms/step - loss: 1.6537 - accuracy: 0.4765 - val_loss: 2.5446 - val_accuracy: 0.3579\n",
            "Epoch 144/150\n",
            "30/30 [==============================] - 6s 201ms/step - loss: 1.6526 - accuracy: 0.4796 - val_loss: 1.5367 - val_accuracy: 0.4632\n",
            "Epoch 145/150\n",
            "30/30 [==============================] - 6s 201ms/step - loss: 1.6756 - accuracy: 0.4828 - val_loss: 1.5145 - val_accuracy: 0.5263\n",
            "Epoch 146/150\n",
            "30/30 [==============================] - 6s 201ms/step - loss: 1.6444 - accuracy: 0.5026 - val_loss: 1.4086 - val_accuracy: 0.6000\n",
            "Epoch 147/150\n",
            "30/30 [==============================] - 6s 199ms/step - loss: 1.6405 - accuracy: 0.5016 - val_loss: 1.4219 - val_accuracy: 0.5579\n",
            "Epoch 148/150\n",
            "30/30 [==============================] - 6s 202ms/step - loss: 1.7194 - accuracy: 0.4786 - val_loss: 1.6073 - val_accuracy: 0.4737\n",
            "Epoch 149/150\n",
            "30/30 [==============================] - 6s 199ms/step - loss: 1.6285 - accuracy: 0.4963 - val_loss: 1.9910 - val_accuracy: 0.4105\n",
            "Epoch 150/150\n",
            "30/30 [==============================] - 6s 198ms/step - loss: 1.5889 - accuracy: 0.5026 - val_loss: 1.7755 - val_accuracy: 0.4211\n"
          ]
        }
      ]
    },
    {
      "cell_type": "code",
      "source": [
        "acc = face_train.history['accuracy']\n",
        "val_acc = face_train.history['val_accuracy']\n",
        "\n",
        "loss = face_train.history['loss']\n",
        "val_loss = face_train.history['val_loss']\n",
        "epochs_range=range(150)\n",
        "plt.figure(figsize=(10, 10))\n",
        "plt.subplot(1, 2, 1)\n",
        "plt.plot(epochs_range, acc, label='Training Accuracy')\n",
        "plt.plot(epochs_range, val_acc, label='Validation Accuracy')\n",
        "plt.legend(loc='lower right')\n",
        "plt.title('Training and Validation Accuracy')\n",
        "plt.show()"
      ],
      "metadata": {
        "colab": {
          "base_uri": "https://localhost:8080/",
          "height": 607
        },
        "id": "32Sbd5989Mhn",
        "outputId": "c638eef8-397a-4d9c-dbe8-26a79a6ca067"
      },
      "execution_count": 33,
      "outputs": [
        {
          "output_type": "display_data",
          "data": {
            "text/plain": [
              "<Figure size 720x720 with 1 Axes>"
            ],
            "image/png": "[encoded data removed]"
          },
          "metadata": {
            "needs_background": "light"
          }
        }
      ]
    },
    {
      "cell_type": "code",
      "source": [
        "tfjs.converters.save_keras_model(model,'models')"
      ],
      "metadata": {
        "id": "Pbhyt-fq9OO0"
      },
      "execution_count": 34,
      "outputs": []
    },
    {
      "cell_type": "code",
      "source": [
        ""
      ],
      "metadata": {
        "id": "UJIHusQdHUDo"
      },
      "execution_count": null,
      "outputs": []
    }
  ]
}