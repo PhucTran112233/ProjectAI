{
  "nbformat": 4,
  "nbformat_minor": 0,
  "metadata": {
    "colab": {
      "name": "Project_AI_Celeb_vn.ipynb",
      "provenance": [],
      "authorship_tag": "ABX9TyOVrBvvgmjCmZKB2y7qrStj",
      "include_colab_link": true
    },
    "kernelspec": {
      "name": "python3",
      "display_name": "Python 3"
    },
    "language_info": {
      "name": "python"
    },
    "accelerator": "GPU",
    "gpuClass": "standard"
  },
  "cells": [
    {
      "cell_type": "markdown",
      "metadata": {
        "id": "view-in-github",
        "colab_type": "text"
      },
      "source": [
        "<a href=\"https://colab.research.google.com/github/PhucTran112233/ProjectAI/blob/main/Project_AI_Celeb_vn.ipynb\" target=\"_parent\"><img src=\"https://colab.research.google.com/assets/colab-badge.svg\" alt=\"Open In Colab\"/></a>"
      ]
    },
    {
      "cell_type": "code",
      "execution_count": null,
      "metadata": {
        "id": "bTxyKGyu5swY"
      },
      "outputs": [],
      "source": [
        "!pip install tensorflowjs"
      ]
    },
    {
      "cell_type": "code",
      "source": [
        "# liên kết Google drive với colab\n",
        "from google.colab import drive\n",
        "drive.mount('/content/drive')"
      ],
      "metadata": {
        "colab": {
          "base_uri": "https://localhost:8080/"
        },
        "id": "AQOV_Z8I5z92",
        "outputId": "042d1745-7e07-43b4-a062-482e6c2392f4"
      },
      "execution_count": 1,
      "outputs": [
        {
          "output_type": "stream",
          "name": "stdout",
          "text": [
            "Mounted at /content/drive\n"
          ]
        }
      ]
    },
    {
      "cell_type": "code",
      "source": [
        "# Tải thư viện cần thiết\n",
        "import numpy as np\n",
        "import matplotlib.pyplot as plt\n",
        "import tensorflow as tf\n",
        "import pandas as pd\n",
        "from keras.preprocessing.image import ImageDataGenerator\n",
        "from keras.layers import Dense,Activation,Dropout,Conv2D,MaxPooling2D,Flatten\n",
        "from tensorflow.keras.models import load_model\n",
        "from keras.models import  Sequential\n",
        "from keras import regularizers\n",
        "from keras import layers\n",
        "import tensorflowjs as tfjs\n",
        "from keras.layers import BatchNormalization\n",
        "import cv2"
      ],
      "metadata": {
        "id": "omukUFHm57SQ"
      },
      "execution_count": 2,
      "outputs": []
    },
    {
      "cell_type": "code",
      "source": [
        "train_data = '/content/drive/MyDrive/AI_4/Train'\n",
        "val_data =  '/content/drive/MyDrive/AI_4/Validation'"
      ],
      "metadata": {
        "id": "DpVReU8L5_w8"
      },
      "execution_count": 6,
      "outputs": []
    },
    {
      "cell_type": "code",
      "source": [
        "#preprocessing\n",
        "train_scale = ImageDataGenerator(  rescale=1./255,\n",
        "                                   rotation_range=0.2,\n",
        "                                   width_shift_range=0.2,   \n",
        "                                   height_shift_range=0.2,\n",
        "                                   horizontal_flip=True, \n",
        "                                   vertical_flip=True,\n",
        "                                   validation_split=0.2)\n",
        "\n",
        "train_input = train_scale.flow_from_directory(train_data,\n",
        "                        target_size=(128, 128),\n",
        "                        batch_size=32,\n",
        "                        class_mode=\"categorical\")\n",
        "\n",
        "val_scale = ImageDataGenerator(rescale=1./255)\n",
        "\n",
        "val_input = val_scale.flow_from_directory(val_data,\n",
        "                        target_size=(128,128),\n",
        "                        batch_size=32,\n",
        "                        class_mode=\"categorical\")"
      ],
      "metadata": {
        "colab": {
          "base_uri": "https://localhost:8080/"
        },
        "id": "NF5Lkdmd6BVH",
        "outputId": "c27e65c4-0f43-4338-c8a7-9f15e436af7e"
      },
      "execution_count": 7,
      "outputs": [
        {
          "output_type": "stream",
          "name": "stdout",
          "text": [
            "Found 957 images belonging to 20 classes.\n",
            "Found 95 images belonging to 20 classes.\n"
          ]
        }
      ]
    },
    {
      "cell_type": "code",
      "source": [
        "print(\"match class: \", train_input.class_indices)\n",
        "print(\"Tổng cộng: \",train_input.num_classes)"
      ],
      "metadata": {
        "colab": {
          "base_uri": "https://localhost:8080/"
        },
        "id": "oM05GBARUcCd",
        "outputId": "c7581a78-c9ed-4fec-a09e-4f0730b52bab"
      },
      "execution_count": 8,
      "outputs": [
        {
          "output_type": "stream",
          "name": "stdout",
          "text": [
            "match class:  {'Huỳnh Phương': 0, 'Lí Hải': 1, 'MC Lại Văn Sâm': 2, 'MC Đại Nghĩa': 3, 'Mạc Văn khoa': 4, 'Misthy': 5, 'NSUT Hồng Vân': 6, 'Nguyễn Huy Hoàng': 7, 'Nguyễn Thị Kim Ngân': 8, 'Nhật Anh Trắng': 9, 'PewPew': 10, 'Phan Mạnh Quỳnh': 11, 'Phạm Nhật Vượng': 12, 'Quang Thắng': 13, 'Ribi Sachi Thuỷ': 14, 'Sơn Tùng MTP': 15, 'TT Nguyễn Xuân Phúc': 16, 'Vân Dung': 17, 'ViruSs': 18, 'Đàm Vĩnh Hưng': 19}\n",
            "Tổng cộng:  20\n"
          ]
        }
      ]
    },
    {
      "cell_type": "code",
      "source": [
        "#MODEL CNN\n",
        "model=Sequential()\n",
        "\n",
        "#LAYER 1\n",
        "model.add(Conv2D(32,(3,3),activation='relu',kernel_initializer='he_uniform',padding='same', input_shape=(128,128,3)))\n",
        "model.add(BatchNormalization())\n",
        "model.add(MaxPooling2D((2,2)))\n",
        "model.add(Dropout(0.25))\n",
        "#LAYER 2\n",
        "model.add(Conv2D(64,(3,3),activation='relu',kernel_initializer='he_uniform',padding='same'))\n",
        "model.add(BatchNormalization())\n",
        "model.add(MaxPooling2D((2,2)))\n",
        "model.add(Dropout(0.25))\n",
        "#LAYER 2\n",
        "model.add(Conv2D(64,(3,3),activation='relu',kernel_initializer='he_uniform',padding='same'))\n",
        "model.add(BatchNormalization())\n",
        "model.add(MaxPooling2D((2,2)))\n",
        "model.add(Dropout(0.25))\n",
        "#LAYER 3\n",
        "model.add(Conv2D(128,(3,3),activation='relu',kernel_initializer='he_uniform',padding='same'))\n",
        "model.add(MaxPooling2D((2,2)))\n",
        "model.add(Dropout(0.25))\n",
        "\n",
        "\n",
        "#FULLY CONNECTED LAYER\n",
        "#Flatten Layer is used to change the dimension of output from convolution layer, which has 3D, to 2D output\n",
        "model.add(Flatten())\n",
        "\n",
        "#Dense(512) is a fully-connected layer with 128 hidden units\n",
        "model.add(Dense(512,activation='relu'))\n",
        "model.add(Dropout(0.5))\n",
        "model.add(Dense(512,activation='relu'))\n",
        "model.add(Dropout(0.5))\n",
        "\n",
        "model.add(Dense(20,activation='softmax'))  #20 class_name\n",
        "model.summary()"
      ],
      "metadata": {
        "colab": {
          "base_uri": "https://localhost:8080/"
        },
        "id": "QZvvelW96FlA",
        "outputId": "bd2709c6-20c2-4ef4-f15e-83f73e52557b"
      },
      "execution_count": 11,
      "outputs": [
        {
          "output_type": "stream",
          "name": "stdout",
          "text": [
            "Model: \"sequential_2\"\n",
            "_________________________________________________________________\n",
            " Layer (type)                Output Shape              Param #   \n",
            "=================================================================\n",
            " conv2d_7 (Conv2D)           (None, 128, 128, 32)      896       \n",
            "                                                                 \n",
            " batch_normalization_5 (Batc  (None, 128, 128, 32)     128       \n",
            " hNormalization)                                                 \n",
            "                                                                 \n",
            " max_pooling2d_7 (MaxPooling  (None, 64, 64, 32)       0         \n",
            " 2D)                                                             \n",
            "                                                                 \n",
            " dropout_11 (Dropout)        (None, 64, 64, 32)        0         \n",
            "                                                                 \n",
            " conv2d_8 (Conv2D)           (None, 64, 64, 64)        18496     \n",
            "                                                                 \n",
            " batch_normalization_6 (Batc  (None, 64, 64, 64)       256       \n",
            " hNormalization)                                                 \n",
            "                                                                 \n",
            " max_pooling2d_8 (MaxPooling  (None, 32, 32, 64)       0         \n",
            " 2D)                                                             \n",
            "                                                                 \n",
            " dropout_12 (Dropout)        (None, 32, 32, 64)        0         \n",
            "                                                                 \n",
            " conv2d_9 (Conv2D)           (None, 32, 32, 64)        36928     \n",
            "                                                                 \n",
            " batch_normalization_7 (Batc  (None, 32, 32, 64)       256       \n",
            " hNormalization)                                                 \n",
            "                                                                 \n",
            " max_pooling2d_9 (MaxPooling  (None, 16, 16, 64)       0         \n",
            " 2D)                                                             \n",
            "                                                                 \n",
            " dropout_13 (Dropout)        (None, 16, 16, 64)        0         \n",
            "                                                                 \n",
            " conv2d_10 (Conv2D)          (None, 16, 16, 128)       73856     \n",
            "                                                                 \n",
            " max_pooling2d_10 (MaxPoolin  (None, 8, 8, 128)        0         \n",
            " g2D)                                                            \n",
            "                                                                 \n",
            " dropout_14 (Dropout)        (None, 8, 8, 128)         0         \n",
            "                                                                 \n",
            " flatten_2 (Flatten)         (None, 8192)              0         \n",
            "                                                                 \n",
            " dense_6 (Dense)             (None, 512)               4194816   \n",
            "                                                                 \n",
            " dropout_15 (Dropout)        (None, 512)               0         \n",
            "                                                                 \n",
            " dense_7 (Dense)             (None, 512)               262656    \n",
            "                                                                 \n",
            " dropout_16 (Dropout)        (None, 512)               0         \n",
            "                                                                 \n",
            " dense_8 (Dense)             (None, 20)                10260     \n",
            "                                                                 \n",
            "=================================================================\n",
            "Total params: 4,598,548\n",
            "Trainable params: 4,598,228\n",
            "Non-trainable params: 320\n",
            "_________________________________________________________________\n"
          ]
        }
      ]
    },
    {
      "cell_type": "code",
      "source": [
        "from tensorflow.keras.optimizers import Adam\n",
        "opt = Adam(learning_rate=0.005)\n",
        "model.compile(loss='categorical_crossentropy',optimizer='adam',metrics=['accuracy'])"
      ],
      "metadata": {
        "id": "KDP_JmW-65Ra"
      },
      "execution_count": 12,
      "outputs": []
    },
    {
      "cell_type": "code",
      "source": [
        "face_train = model.fit(train_input,batch_size=32,epochs=150,verbose=1,validation_data=val_input)"
      ],
      "metadata": {
        "colab": {
          "base_uri": "https://localhost:8080/"
        },
        "id": "DaQ6uoFr7Jqq",
        "outputId": "1cb5a888-1d39-4e50-c62a-86e1c81d8ed2"
      },
      "execution_count": 17,
      "outputs": [
        {
          "output_type": "stream",
          "name": "stdout",
          "text": [
            "Epoch 1/150\n",
            "30/30 [==============================] - 7s 205ms/step - loss: 0.8595 - accuracy: 0.7346 - val_loss: 0.9348 - val_accuracy: 0.7053\n",
            "Epoch 2/150\n",
            "30/30 [==============================] - 6s 202ms/step - loss: 0.7983 - accuracy: 0.7471 - val_loss: 0.7518 - val_accuracy: 0.8105\n",
            "Epoch 3/150\n",
            "30/30 [==============================] - 6s 202ms/step - loss: 0.8592 - accuracy: 0.7388 - val_loss: 0.6618 - val_accuracy: 0.8316\n",
            "Epoch 4/150\n",
            "30/30 [==============================] - 6s 202ms/step - loss: 0.8267 - accuracy: 0.7304 - val_loss: 0.8067 - val_accuracy: 0.7789\n",
            "Epoch 5/150\n",
            "30/30 [==============================] - 7s 222ms/step - loss: 0.8653 - accuracy: 0.7388 - val_loss: 0.6933 - val_accuracy: 0.8105\n",
            "Epoch 6/150\n",
            "30/30 [==============================] - 6s 212ms/step - loss: 0.8344 - accuracy: 0.7335 - val_loss: 0.6805 - val_accuracy: 0.8211\n",
            "Epoch 7/150\n",
            "30/30 [==============================] - 6s 204ms/step - loss: 0.7698 - accuracy: 0.7774 - val_loss: 0.7475 - val_accuracy: 0.8000\n",
            "Epoch 8/150\n",
            "30/30 [==============================] - 6s 201ms/step - loss: 0.8335 - accuracy: 0.7524 - val_loss: 1.9545 - val_accuracy: 0.5474\n",
            "Epoch 9/150\n",
            "30/30 [==============================] - 6s 206ms/step - loss: 0.7372 - accuracy: 0.7670 - val_loss: 0.9281 - val_accuracy: 0.7368\n",
            "Epoch 10/150\n",
            "30/30 [==============================] - 6s 204ms/step - loss: 0.7970 - accuracy: 0.7586 - val_loss: 0.7711 - val_accuracy: 0.7789\n",
            "Epoch 11/150\n",
            "30/30 [==============================] - 6s 204ms/step - loss: 0.8729 - accuracy: 0.7335 - val_loss: 1.3054 - val_accuracy: 0.6421\n",
            "Epoch 12/150\n",
            "30/30 [==============================] - 6s 205ms/step - loss: 0.7763 - accuracy: 0.7732 - val_loss: 0.7915 - val_accuracy: 0.7263\n",
            "Epoch 13/150\n",
            "30/30 [==============================] - 6s 202ms/step - loss: 0.8688 - accuracy: 0.7137 - val_loss: 0.7774 - val_accuracy: 0.7684\n",
            "Epoch 14/150\n",
            "30/30 [==============================] - 6s 203ms/step - loss: 0.7460 - accuracy: 0.7628 - val_loss: 0.9252 - val_accuracy: 0.7158\n",
            "Epoch 15/150\n",
            "30/30 [==============================] - 6s 203ms/step - loss: 0.7969 - accuracy: 0.7565 - val_loss: 0.7385 - val_accuracy: 0.7368\n",
            "Epoch 16/150\n",
            "30/30 [==============================] - 6s 202ms/step - loss: 0.8804 - accuracy: 0.7367 - val_loss: 0.8424 - val_accuracy: 0.7368\n",
            "Epoch 17/150\n",
            "30/30 [==============================] - 6s 203ms/step - loss: 0.7840 - accuracy: 0.7670 - val_loss: 0.7705 - val_accuracy: 0.7789\n",
            "Epoch 18/150\n",
            "30/30 [==============================] - 6s 203ms/step - loss: 0.7835 - accuracy: 0.7586 - val_loss: 0.7588 - val_accuracy: 0.7895\n",
            "Epoch 19/150\n",
            "30/30 [==============================] - 6s 202ms/step - loss: 0.7959 - accuracy: 0.7503 - val_loss: 0.8491 - val_accuracy: 0.7684\n",
            "Epoch 20/150\n",
            "30/30 [==============================] - 6s 201ms/step - loss: 0.7852 - accuracy: 0.7680 - val_loss: 0.6911 - val_accuracy: 0.7789\n",
            "Epoch 21/150\n",
            "30/30 [==============================] - 6s 204ms/step - loss: 0.7672 - accuracy: 0.7659 - val_loss: 0.6620 - val_accuracy: 0.7368\n",
            "Epoch 22/150\n",
            "30/30 [==============================] - 6s 204ms/step - loss: 0.8727 - accuracy: 0.7398 - val_loss: 0.8009 - val_accuracy: 0.7579\n",
            "Epoch 23/150\n",
            "30/30 [==============================] - 6s 204ms/step - loss: 0.8021 - accuracy: 0.7471 - val_loss: 1.1729 - val_accuracy: 0.5895\n",
            "Epoch 24/150\n",
            "30/30 [==============================] - 6s 203ms/step - loss: 0.7875 - accuracy: 0.7555 - val_loss: 1.3183 - val_accuracy: 0.6947\n",
            "Epoch 25/150\n",
            "30/30 [==============================] - 6s 203ms/step - loss: 0.7660 - accuracy: 0.7461 - val_loss: 0.7970 - val_accuracy: 0.7789\n",
            "Epoch 26/150\n",
            "30/30 [==============================] - 6s 204ms/step - loss: 0.8133 - accuracy: 0.7534 - val_loss: 0.7834 - val_accuracy: 0.7684\n",
            "Epoch 27/150\n",
            "30/30 [==============================] - 6s 199ms/step - loss: 0.7271 - accuracy: 0.7597 - val_loss: 0.6398 - val_accuracy: 0.7789\n",
            "Epoch 28/150\n",
            "30/30 [==============================] - 6s 203ms/step - loss: 0.7734 - accuracy: 0.7659 - val_loss: 0.7083 - val_accuracy: 0.7368\n",
            "Epoch 29/150\n",
            "30/30 [==============================] - 6s 199ms/step - loss: 0.7324 - accuracy: 0.7827 - val_loss: 0.7519 - val_accuracy: 0.8000\n",
            "Epoch 30/150\n",
            "30/30 [==============================] - 6s 202ms/step - loss: 0.7902 - accuracy: 0.7492 - val_loss: 1.1476 - val_accuracy: 0.6000\n",
            "Epoch 31/150\n",
            "30/30 [==============================] - 6s 201ms/step - loss: 0.8210 - accuracy: 0.7388 - val_loss: 0.7024 - val_accuracy: 0.7789\n",
            "Epoch 32/150\n",
            "30/30 [==============================] - 6s 200ms/step - loss: 0.8302 - accuracy: 0.7586 - val_loss: 0.7025 - val_accuracy: 0.8105\n",
            "Epoch 33/150\n",
            "30/30 [==============================] - 6s 201ms/step - loss: 0.7700 - accuracy: 0.7618 - val_loss: 0.6932 - val_accuracy: 0.7474\n",
            "Epoch 34/150\n",
            "30/30 [==============================] - 6s 200ms/step - loss: 0.8467 - accuracy: 0.7555 - val_loss: 0.7903 - val_accuracy: 0.8105\n",
            "Epoch 35/150\n",
            "30/30 [==============================] - 6s 203ms/step - loss: 0.7727 - accuracy: 0.7691 - val_loss: 1.0156 - val_accuracy: 0.6632\n",
            "Epoch 36/150\n",
            "30/30 [==============================] - 6s 202ms/step - loss: 0.7553 - accuracy: 0.7670 - val_loss: 0.7249 - val_accuracy: 0.7474\n",
            "Epoch 37/150\n",
            "30/30 [==============================] - 6s 201ms/step - loss: 0.7422 - accuracy: 0.7680 - val_loss: 0.7919 - val_accuracy: 0.7789\n",
            "Epoch 38/150\n",
            "30/30 [==============================] - 6s 202ms/step - loss: 0.7695 - accuracy: 0.7732 - val_loss: 0.9361 - val_accuracy: 0.7368\n",
            "Epoch 39/150\n",
            "30/30 [==============================] - 6s 202ms/step - loss: 0.7101 - accuracy: 0.7743 - val_loss: 0.5998 - val_accuracy: 0.8421\n",
            "Epoch 40/150\n",
            "30/30 [==============================] - 6s 200ms/step - loss: 0.7023 - accuracy: 0.7806 - val_loss: 0.7089 - val_accuracy: 0.7789\n",
            "Epoch 41/150\n",
            "30/30 [==============================] - 6s 198ms/step - loss: 0.7652 - accuracy: 0.7680 - val_loss: 0.9002 - val_accuracy: 0.7474\n",
            "Epoch 42/150\n",
            "30/30 [==============================] - 6s 199ms/step - loss: 0.7414 - accuracy: 0.7712 - val_loss: 0.7215 - val_accuracy: 0.7684\n",
            "Epoch 43/150\n",
            "30/30 [==============================] - 6s 199ms/step - loss: 0.7367 - accuracy: 0.7691 - val_loss: 0.7276 - val_accuracy: 0.8105\n",
            "Epoch 44/150\n",
            "30/30 [==============================] - 6s 197ms/step - loss: 0.7731 - accuracy: 0.7440 - val_loss: 1.0282 - val_accuracy: 0.6947\n",
            "Epoch 45/150\n",
            "30/30 [==============================] - 6s 201ms/step - loss: 0.7432 - accuracy: 0.7659 - val_loss: 1.3412 - val_accuracy: 0.6632\n",
            "Epoch 46/150\n",
            "30/30 [==============================] - 6s 201ms/step - loss: 0.7709 - accuracy: 0.7827 - val_loss: 0.6827 - val_accuracy: 0.8105\n",
            "Epoch 47/150\n",
            "30/30 [==============================] - 6s 200ms/step - loss: 0.7002 - accuracy: 0.7837 - val_loss: 0.6577 - val_accuracy: 0.8211\n",
            "Epoch 48/150\n",
            "30/30 [==============================] - 6s 200ms/step - loss: 0.7410 - accuracy: 0.7879 - val_loss: 0.8502 - val_accuracy: 0.8105\n",
            "Epoch 49/150\n",
            "30/30 [==============================] - 6s 201ms/step - loss: 0.7305 - accuracy: 0.7544 - val_loss: 0.6058 - val_accuracy: 0.8211\n",
            "Epoch 50/150\n",
            "30/30 [==============================] - 6s 201ms/step - loss: 0.7497 - accuracy: 0.7785 - val_loss: 0.5814 - val_accuracy: 0.7789\n",
            "Epoch 51/150\n",
            "30/30 [==============================] - 6s 200ms/step - loss: 0.7824 - accuracy: 0.7607 - val_loss: 0.8098 - val_accuracy: 0.7895\n",
            "Epoch 52/150\n",
            "30/30 [==============================] - 6s 202ms/step - loss: 0.7062 - accuracy: 0.7837 - val_loss: 0.7900 - val_accuracy: 0.6842\n",
            "Epoch 53/150\n",
            "30/30 [==============================] - 6s 200ms/step - loss: 0.6448 - accuracy: 0.8004 - val_loss: 1.6950 - val_accuracy: 0.5684\n",
            "Epoch 54/150\n",
            "30/30 [==============================] - 6s 210ms/step - loss: 0.7455 - accuracy: 0.7680 - val_loss: 1.6718 - val_accuracy: 0.6000\n",
            "Epoch 55/150\n",
            "30/30 [==============================] - 6s 206ms/step - loss: 0.7054 - accuracy: 0.7785 - val_loss: 0.7731 - val_accuracy: 0.7789\n",
            "Epoch 56/150\n",
            "30/30 [==============================] - 6s 215ms/step - loss: 0.7518 - accuracy: 0.7722 - val_loss: 0.8099 - val_accuracy: 0.7579\n",
            "Epoch 57/150\n",
            "30/30 [==============================] - 6s 213ms/step - loss: 0.7481 - accuracy: 0.7565 - val_loss: 0.7169 - val_accuracy: 0.7895\n",
            "Epoch 58/150\n",
            "30/30 [==============================] - 7s 225ms/step - loss: 0.6918 - accuracy: 0.7941 - val_loss: 0.6273 - val_accuracy: 0.8105\n",
            "Epoch 59/150\n",
            "30/30 [==============================] - 7s 219ms/step - loss: 0.6688 - accuracy: 0.7837 - val_loss: 0.6405 - val_accuracy: 0.8211\n",
            "Epoch 60/150\n",
            "30/30 [==============================] - 7s 216ms/step - loss: 0.6922 - accuracy: 0.7753 - val_loss: 0.7596 - val_accuracy: 0.7895\n",
            "Epoch 61/150\n",
            "30/30 [==============================] - 7s 218ms/step - loss: 0.7311 - accuracy: 0.7952 - val_loss: 0.7516 - val_accuracy: 0.7579\n",
            "Epoch 62/150\n",
            "30/30 [==============================] - 7s 218ms/step - loss: 0.7849 - accuracy: 0.7628 - val_loss: 0.6863 - val_accuracy: 0.7579\n",
            "Epoch 63/150\n",
            "30/30 [==============================] - 6s 212ms/step - loss: 0.7299 - accuracy: 0.7576 - val_loss: 0.7477 - val_accuracy: 0.8000\n",
            "Epoch 64/150\n",
            "30/30 [==============================] - 6s 208ms/step - loss: 0.7829 - accuracy: 0.7461 - val_loss: 0.5559 - val_accuracy: 0.8421\n",
            "Epoch 65/150\n",
            "30/30 [==============================] - 6s 208ms/step - loss: 0.7258 - accuracy: 0.7722 - val_loss: 0.6149 - val_accuracy: 0.7895\n",
            "Epoch 66/150\n",
            "30/30 [==============================] - 6s 206ms/step - loss: 0.6612 - accuracy: 0.7900 - val_loss: 0.6945 - val_accuracy: 0.7684\n",
            "Epoch 67/150\n",
            "30/30 [==============================] - 6s 207ms/step - loss: 0.6994 - accuracy: 0.7962 - val_loss: 0.5925 - val_accuracy: 0.7789\n",
            "Epoch 68/150\n",
            "30/30 [==============================] - 6s 206ms/step - loss: 0.7381 - accuracy: 0.7680 - val_loss: 0.7025 - val_accuracy: 0.7789\n",
            "Epoch 69/150\n",
            "30/30 [==============================] - 6s 209ms/step - loss: 0.6202 - accuracy: 0.8213 - val_loss: 0.8504 - val_accuracy: 0.7474\n",
            "Epoch 70/150\n",
            "30/30 [==============================] - 6s 208ms/step - loss: 0.6799 - accuracy: 0.7795 - val_loss: 0.6130 - val_accuracy: 0.8000\n",
            "Epoch 71/150\n",
            "30/30 [==============================] - 6s 205ms/step - loss: 0.6379 - accuracy: 0.7921 - val_loss: 0.4698 - val_accuracy: 0.8316\n",
            "Epoch 72/150\n",
            "30/30 [==============================] - 6s 207ms/step - loss: 0.6981 - accuracy: 0.7921 - val_loss: 0.5044 - val_accuracy: 0.8316\n",
            "Epoch 73/150\n",
            "30/30 [==============================] - 6s 208ms/step - loss: 0.6907 - accuracy: 0.7816 - val_loss: 0.5640 - val_accuracy: 0.7895\n",
            "Epoch 74/150\n",
            "30/30 [==============================] - 6s 210ms/step - loss: 0.7669 - accuracy: 0.7565 - val_loss: 0.5680 - val_accuracy: 0.8211\n",
            "Epoch 75/150\n",
            "30/30 [==============================] - 6s 210ms/step - loss: 0.6756 - accuracy: 0.7921 - val_loss: 0.8271 - val_accuracy: 0.7789\n",
            "Epoch 76/150\n",
            "30/30 [==============================] - 6s 209ms/step - loss: 0.7496 - accuracy: 0.7670 - val_loss: 0.6765 - val_accuracy: 0.8000\n",
            "Epoch 77/150\n",
            "30/30 [==============================] - 6s 206ms/step - loss: 0.6918 - accuracy: 0.7827 - val_loss: 0.7380 - val_accuracy: 0.8105\n",
            "Epoch 78/150\n",
            "30/30 [==============================] - 6s 206ms/step - loss: 0.6886 - accuracy: 0.7900 - val_loss: 1.0249 - val_accuracy: 0.7263\n",
            "Epoch 79/150\n",
            "30/30 [==============================] - 6s 207ms/step - loss: 0.7275 - accuracy: 0.7785 - val_loss: 0.6054 - val_accuracy: 0.8316\n",
            "Epoch 80/150\n",
            "30/30 [==============================] - 6s 206ms/step - loss: 0.6839 - accuracy: 0.7941 - val_loss: 0.5691 - val_accuracy: 0.8211\n",
            "Epoch 81/150\n",
            "30/30 [==============================] - 6s 208ms/step - loss: 0.7175 - accuracy: 0.7847 - val_loss: 0.9723 - val_accuracy: 0.7263\n",
            "Epoch 82/150\n",
            "30/30 [==============================] - 6s 209ms/step - loss: 0.6830 - accuracy: 0.7910 - val_loss: 0.8973 - val_accuracy: 0.7368\n",
            "Epoch 83/150\n",
            "30/30 [==============================] - 6s 209ms/step - loss: 0.6793 - accuracy: 0.7764 - val_loss: 1.3534 - val_accuracy: 0.6316\n",
            "Epoch 84/150\n",
            "30/30 [==============================] - 6s 209ms/step - loss: 0.7232 - accuracy: 0.7785 - val_loss: 0.7304 - val_accuracy: 0.7684\n",
            "Epoch 85/150\n",
            "30/30 [==============================] - 6s 211ms/step - loss: 0.7612 - accuracy: 0.7774 - val_loss: 0.8079 - val_accuracy: 0.7684\n",
            "Epoch 86/150\n",
            "30/30 [==============================] - 6s 210ms/step - loss: 0.6430 - accuracy: 0.8004 - val_loss: 0.8041 - val_accuracy: 0.7684\n",
            "Epoch 87/150\n",
            "30/30 [==============================] - 6s 208ms/step - loss: 0.6983 - accuracy: 0.7910 - val_loss: 0.7894 - val_accuracy: 0.7368\n",
            "Epoch 88/150\n",
            "30/30 [==============================] - 6s 211ms/step - loss: 0.6929 - accuracy: 0.7910 - val_loss: 0.5761 - val_accuracy: 0.7895\n",
            "Epoch 89/150\n",
            "30/30 [==============================] - 6s 205ms/step - loss: 0.6909 - accuracy: 0.7837 - val_loss: 0.8194 - val_accuracy: 0.7789\n",
            "Epoch 90/150\n",
            "30/30 [==============================] - 6s 208ms/step - loss: 0.5904 - accuracy: 0.8307 - val_loss: 0.6989 - val_accuracy: 0.7684\n",
            "Epoch 91/150\n",
            "30/30 [==============================] - 6s 207ms/step - loss: 0.6578 - accuracy: 0.8004 - val_loss: 0.5997 - val_accuracy: 0.8000\n",
            "Epoch 92/150\n",
            "30/30 [==============================] - 6s 204ms/step - loss: 0.6722 - accuracy: 0.7879 - val_loss: 0.6626 - val_accuracy: 0.7684\n",
            "Epoch 93/150\n",
            "30/30 [==============================] - 6s 205ms/step - loss: 0.6723 - accuracy: 0.8025 - val_loss: 0.9403 - val_accuracy: 0.7368\n",
            "Epoch 94/150\n",
            "30/30 [==============================] - 6s 206ms/step - loss: 0.6958 - accuracy: 0.7858 - val_loss: 0.9205 - val_accuracy: 0.7684\n",
            "Epoch 95/150\n",
            "30/30 [==============================] - 6s 204ms/step - loss: 0.6030 - accuracy: 0.7983 - val_loss: 0.7905 - val_accuracy: 0.7789\n",
            "Epoch 96/150\n",
            "30/30 [==============================] - 6s 207ms/step - loss: 0.6297 - accuracy: 0.8109 - val_loss: 0.7034 - val_accuracy: 0.7895\n",
            "Epoch 97/150\n",
            "30/30 [==============================] - 6s 206ms/step - loss: 0.5925 - accuracy: 0.8161 - val_loss: 0.7347 - val_accuracy: 0.7684\n",
            "Epoch 98/150\n",
            "30/30 [==============================] - 6s 204ms/step - loss: 0.6834 - accuracy: 0.7868 - val_loss: 1.0000 - val_accuracy: 0.7158\n",
            "Epoch 99/150\n",
            "30/30 [==============================] - 6s 205ms/step - loss: 0.6316 - accuracy: 0.8077 - val_loss: 0.5340 - val_accuracy: 0.8421\n",
            "Epoch 100/150\n",
            "30/30 [==============================] - 6s 205ms/step - loss: 0.7379 - accuracy: 0.7795 - val_loss: 0.6773 - val_accuracy: 0.8105\n",
            "Epoch 101/150\n",
            "30/30 [==============================] - 6s 205ms/step - loss: 0.6772 - accuracy: 0.7827 - val_loss: 0.6691 - val_accuracy: 0.8316\n",
            "Epoch 102/150\n",
            "30/30 [==============================] - 6s 205ms/step - loss: 0.7300 - accuracy: 0.7753 - val_loss: 0.6422 - val_accuracy: 0.8105\n",
            "Epoch 103/150\n",
            "30/30 [==============================] - 6s 207ms/step - loss: 0.6787 - accuracy: 0.8046 - val_loss: 0.6538 - val_accuracy: 0.8316\n",
            "Epoch 104/150\n",
            "30/30 [==============================] - 6s 205ms/step - loss: 0.6840 - accuracy: 0.7941 - val_loss: 0.7164 - val_accuracy: 0.7789\n",
            "Epoch 105/150\n",
            "30/30 [==============================] - 6s 207ms/step - loss: 0.6281 - accuracy: 0.7921 - val_loss: 0.8202 - val_accuracy: 0.7579\n",
            "Epoch 106/150\n",
            "30/30 [==============================] - 6s 208ms/step - loss: 0.5881 - accuracy: 0.7973 - val_loss: 0.7423 - val_accuracy: 0.7684\n",
            "Epoch 107/150\n",
            "30/30 [==============================] - 6s 208ms/step - loss: 0.6716 - accuracy: 0.8161 - val_loss: 0.6728 - val_accuracy: 0.7789\n",
            "Epoch 108/150\n",
            "30/30 [==============================] - 6s 205ms/step - loss: 0.6084 - accuracy: 0.8119 - val_loss: 0.6728 - val_accuracy: 0.8211\n",
            "Epoch 109/150\n",
            "30/30 [==============================] - 6s 203ms/step - loss: 0.6376 - accuracy: 0.8025 - val_loss: 0.8107 - val_accuracy: 0.7895\n",
            "Epoch 110/150\n",
            "30/30 [==============================] - 6s 205ms/step - loss: 0.6978 - accuracy: 0.7921 - val_loss: 0.7015 - val_accuracy: 0.7895\n",
            "Epoch 111/150\n",
            "30/30 [==============================] - 6s 205ms/step - loss: 0.6690 - accuracy: 0.8036 - val_loss: 0.7294 - val_accuracy: 0.7684\n",
            "Epoch 112/150\n",
            "30/30 [==============================] - 6s 206ms/step - loss: 0.6135 - accuracy: 0.8224 - val_loss: 0.6535 - val_accuracy: 0.8000\n",
            "Epoch 113/150\n",
            "30/30 [==============================] - 6s 205ms/step - loss: 0.5735 - accuracy: 0.8161 - val_loss: 0.7874 - val_accuracy: 0.8105\n",
            "Epoch 114/150\n",
            "30/30 [==============================] - 6s 205ms/step - loss: 0.6691 - accuracy: 0.7973 - val_loss: 0.7775 - val_accuracy: 0.7684\n",
            "Epoch 115/150\n",
            "30/30 [==============================] - 6s 204ms/step - loss: 0.6705 - accuracy: 0.7931 - val_loss: 0.6041 - val_accuracy: 0.8105\n",
            "Epoch 116/150\n",
            "30/30 [==============================] - 6s 203ms/step - loss: 0.6402 - accuracy: 0.8077 - val_loss: 0.9282 - val_accuracy: 0.7263\n",
            "Epoch 117/150\n",
            "30/30 [==============================] - 6s 204ms/step - loss: 0.6279 - accuracy: 0.8025 - val_loss: 0.5770 - val_accuracy: 0.8105\n",
            "Epoch 118/150\n",
            "30/30 [==============================] - 6s 204ms/step - loss: 0.5781 - accuracy: 0.8171 - val_loss: 0.6195 - val_accuracy: 0.7789\n",
            "Epoch 119/150\n",
            "30/30 [==============================] - 6s 205ms/step - loss: 0.5968 - accuracy: 0.8182 - val_loss: 0.9148 - val_accuracy: 0.7684\n",
            "Epoch 120/150\n",
            "30/30 [==============================] - 6s 205ms/step - loss: 0.6307 - accuracy: 0.8067 - val_loss: 0.6665 - val_accuracy: 0.7895\n",
            "Epoch 121/150\n",
            "30/30 [==============================] - 6s 202ms/step - loss: 0.5267 - accuracy: 0.8234 - val_loss: 0.8255 - val_accuracy: 0.7684\n",
            "Epoch 122/150\n",
            "30/30 [==============================] - 6s 203ms/step - loss: 0.5850 - accuracy: 0.8161 - val_loss: 0.7441 - val_accuracy: 0.7895\n",
            "Epoch 123/150\n",
            "30/30 [==============================] - 6s 204ms/step - loss: 0.6544 - accuracy: 0.8025 - val_loss: 0.7399 - val_accuracy: 0.7684\n",
            "Epoch 124/150\n",
            "30/30 [==============================] - 6s 203ms/step - loss: 0.6172 - accuracy: 0.7941 - val_loss: 0.5570 - val_accuracy: 0.7895\n",
            "Epoch 125/150\n",
            "30/30 [==============================] - 6s 206ms/step - loss: 0.6658 - accuracy: 0.8046 - val_loss: 0.8406 - val_accuracy: 0.7474\n",
            "Epoch 126/150\n",
            "30/30 [==============================] - 6s 201ms/step - loss: 0.7029 - accuracy: 0.7837 - val_loss: 0.7520 - val_accuracy: 0.7474\n",
            "Epoch 127/150\n",
            "30/30 [==============================] - 6s 207ms/step - loss: 0.6457 - accuracy: 0.7921 - val_loss: 1.0339 - val_accuracy: 0.7053\n",
            "Epoch 128/150\n",
            "30/30 [==============================] - 6s 203ms/step - loss: 0.6431 - accuracy: 0.8046 - val_loss: 1.5010 - val_accuracy: 0.6526\n",
            "Epoch 129/150\n",
            "30/30 [==============================] - 6s 205ms/step - loss: 0.5865 - accuracy: 0.8297 - val_loss: 1.6563 - val_accuracy: 0.5579\n",
            "Epoch 130/150\n",
            "30/30 [==============================] - 6s 205ms/step - loss: 0.6122 - accuracy: 0.8182 - val_loss: 0.9072 - val_accuracy: 0.6947\n",
            "Epoch 131/150\n",
            "30/30 [==============================] - 6s 204ms/step - loss: 0.5704 - accuracy: 0.8307 - val_loss: 0.6838 - val_accuracy: 0.7684\n",
            "Epoch 132/150\n",
            "30/30 [==============================] - 6s 203ms/step - loss: 0.5700 - accuracy: 0.8161 - val_loss: 1.0026 - val_accuracy: 0.7368\n",
            "Epoch 133/150\n",
            "30/30 [==============================] - 6s 206ms/step - loss: 0.5055 - accuracy: 0.8255 - val_loss: 0.7145 - val_accuracy: 0.8000\n",
            "Epoch 134/150\n",
            "30/30 [==============================] - 6s 205ms/step - loss: 0.6539 - accuracy: 0.8130 - val_loss: 0.7421 - val_accuracy: 0.7895\n",
            "Epoch 135/150\n",
            "30/30 [==============================] - 6s 204ms/step - loss: 0.5616 - accuracy: 0.8255 - val_loss: 0.6558 - val_accuracy: 0.8000\n",
            "Epoch 136/150\n",
            "30/30 [==============================] - 6s 202ms/step - loss: 0.5689 - accuracy: 0.8192 - val_loss: 0.6858 - val_accuracy: 0.7789\n",
            "Epoch 137/150\n",
            "30/30 [==============================] - 6s 205ms/step - loss: 0.5782 - accuracy: 0.8224 - val_loss: 0.8539 - val_accuracy: 0.7579\n",
            "Epoch 138/150\n",
            "30/30 [==============================] - 6s 205ms/step - loss: 0.6099 - accuracy: 0.8119 - val_loss: 0.8997 - val_accuracy: 0.7684\n",
            "Epoch 139/150\n",
            "30/30 [==============================] - 6s 204ms/step - loss: 0.5758 - accuracy: 0.8286 - val_loss: 0.6573 - val_accuracy: 0.8000\n",
            "Epoch 140/150\n",
            "30/30 [==============================] - 6s 205ms/step - loss: 0.5816 - accuracy: 0.8297 - val_loss: 1.3268 - val_accuracy: 0.6737\n",
            "Epoch 141/150\n",
            "30/30 [==============================] - 6s 203ms/step - loss: 0.6028 - accuracy: 0.8036 - val_loss: 0.6410 - val_accuracy: 0.8000\n",
            "Epoch 142/150\n",
            "30/30 [==============================] - 6s 206ms/step - loss: 0.5131 - accuracy: 0.8318 - val_loss: 0.8580 - val_accuracy: 0.8000\n",
            "Epoch 143/150\n",
            "30/30 [==============================] - 6s 204ms/step - loss: 0.5647 - accuracy: 0.8401 - val_loss: 0.7866 - val_accuracy: 0.7684\n",
            "Epoch 144/150\n",
            "30/30 [==============================] - 6s 203ms/step - loss: 0.5991 - accuracy: 0.8213 - val_loss: 1.3070 - val_accuracy: 0.6632\n",
            "Epoch 145/150\n",
            "30/30 [==============================] - 6s 204ms/step - loss: 0.5775 - accuracy: 0.8234 - val_loss: 0.6471 - val_accuracy: 0.8316\n",
            "Epoch 146/150\n",
            "30/30 [==============================] - 6s 203ms/step - loss: 0.5708 - accuracy: 0.8130 - val_loss: 1.1198 - val_accuracy: 0.6842\n",
            "Epoch 147/150\n",
            "30/30 [==============================] - 6s 205ms/step - loss: 0.5598 - accuracy: 0.8349 - val_loss: 0.6200 - val_accuracy: 0.7789\n",
            "Epoch 148/150\n",
            "30/30 [==============================] - 6s 204ms/step - loss: 0.5445 - accuracy: 0.8265 - val_loss: 0.7534 - val_accuracy: 0.8211\n",
            "Epoch 149/150\n",
            "30/30 [==============================] - 6s 204ms/step - loss: 0.6282 - accuracy: 0.8098 - val_loss: 1.0362 - val_accuracy: 0.7579\n",
            "Epoch 150/150\n",
            "30/30 [==============================] - 6s 205ms/step - loss: 0.5229 - accuracy: 0.8370 - val_loss: 0.7164 - val_accuracy: 0.7684\n"
          ]
        }
      ]
    },
    {
      "cell_type": "code",
      "source": [
        "acc = face_train.history['accuracy']\n",
        "val_acc = face_train.history['val_accuracy']\n",
        "\n",
        "loss = face_train.history['loss']\n",
        "val_loss = face_train.history['val_loss']\n",
        "epochs_range=range(150)\n",
        "plt.figure(figsize=(10, 10))\n",
        "plt.subplot(1, 2, 1)\n",
        "plt.plot(epochs_range, acc, label='Training Accuracy')\n",
        "plt.plot(epochs_range, val_acc, label='Validation Accuracy')\n",
        "plt.legend(loc='lower right')\n",
        "plt.title('Training and Validation Accuracy')\n",
        "plt.show()"
      ],
      "metadata": {
        "colab": {
          "base_uri": "https://localhost:8080/",
          "height": 607
        },
        "id": "32Sbd5989Mhn",
        "outputId": "98fec248-4849-4e60-fa85-0bf9bfae645d"
      },
      "execution_count": 18,
      "outputs": [
        {
          "output_type": "display_data",
          "data": {
            "text/plain": [
              "<Figure size 720x720 with 1 Axes>"
            ],
            "image/png": "[encoded data removed]"
          },
          "metadata": {
            "needs_background": "light"
          }
        }
      ]
    },
    {
      "cell_type": "code",
      "source": [
        "tfjs.converters.save_keras_model(model,'models')"
      ],
      "metadata": {
        "id": "Pbhyt-fq9OO0"
      },
      "execution_count": 19,
      "outputs": []
    },
    {
      "cell_type": "code",
      "source": [
        ""
      ],
      "metadata": {
        "id": "UJIHusQdHUDo"
      },
      "execution_count": null,
      "outputs": []
    }
  ]
}