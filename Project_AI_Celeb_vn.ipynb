{
  "nbformat": 4,
  "nbformat_minor": 0,
  "metadata": {
    "colab": {
      "name": "Project_AI_Celeb_vn.ipynb",
      "provenance": [],
      "authorship_tag": "ABX9TyO59bJEpJHxyR3FKrld9ObH",
      "include_colab_link": true
    },
    "kernelspec": {
      "name": "python3",
      "display_name": "Python 3"
    },
    "language_info": {
      "name": "python"
    },
    "accelerator": "GPU",
    "gpuClass": "standard"
  },
  "cells": [
    {
      "cell_type": "markdown",
      "metadata": {
        "id": "view-in-github",
        "colab_type": "text"
      },
      "source": [
        "<a href=\"https://colab.research.google.com/github/PhucTran112233/ProjectAI/blob/main/Project_AI_Celeb_vn.ipynb\" target=\"_parent\"><img src=\"https://colab.research.google.com/assets/colab-badge.svg\" alt=\"Open In Colab\"/></a>"
      ]
    },
    {
      "cell_type": "code",
      "execution_count": null,
      "metadata": {
        "id": "bTxyKGyu5swY"
      },
      "outputs": [],
      "source": [
        "!pip install tensorflowjs"
      ]
    },
    {
      "cell_type": "code",
      "source": [
        "# liên kết Google drive với colab\n",
        "from google.colab import drive\n",
        "drive.mount('/content/drive')"
      ],
      "metadata": {
        "colab": {
          "base_uri": "https://localhost:8080/"
        },
        "id": "AQOV_Z8I5z92",
        "outputId": "042d1745-7e07-43b4-a062-482e6c2392f4"
      },
      "execution_count": 1,
      "outputs": [
        {
          "output_type": "stream",
          "name": "stdout",
          "text": [
            "Mounted at /content/drive\n"
          ]
        }
      ]
    },
    {
      "cell_type": "code",
      "source": [
        "# Tải thư viện cần thiết\n",
        "import numpy as np\n",
        "import matplotlib.pyplot as plt\n",
        "import tensorflow as tf\n",
        "import pandas as pd\n",
        "from keras.preprocessing.image import ImageDataGenerator\n",
        "from keras.layers import Dense,Activation,Dropout,Conv2D,MaxPooling2D,Flatten\n",
        "from tensorflow.keras.models import load_model\n",
        "from keras.models import  Sequential\n",
        "from keras import regularizers\n",
        "from keras import layers\n",
        "import tensorflowjs as tfjs\n",
        "from keras.layers import BatchNormalization\n",
        "import cv2"
      ],
      "metadata": {
        "id": "omukUFHm57SQ"
      },
      "execution_count": 2,
      "outputs": []
    },
    {
      "cell_type": "code",
      "source": [
        "train_data = '/content/drive/MyDrive/AI_4/Train'\n",
        "val_data =  '/content/drive/MyDrive/AI_4/Validation'"
      ],
      "metadata": {
        "id": "DpVReU8L5_w8"
      },
      "execution_count": 6,
      "outputs": []
    },
    {
      "cell_type": "code",
      "source": [
        "#preprocessing\n",
        "train_scale = ImageDataGenerator(  rescale=1./255,\n",
        "                                   rotation_range=0.2,\n",
        "                                   width_shift_range=0.2,   \n",
        "                                   height_shift_range=0.2,\n",
        "                                   horizontal_flip=True, \n",
        "                                   vertical_flip=True,\n",
        "                                   validation_split=0.2)\n",
        "\n",
        "train_input = train_scale.flow_from_directory(train_data,\n",
        "                        target_size=(128, 128),\n",
        "                        batch_size=32,\n",
        "                        class_mode=\"categorical\")\n",
        "\n",
        "val_scale = ImageDataGenerator(rescale=1./255)\n",
        "\n",
        "val_input = val_scale.flow_from_directory(val_data,\n",
        "                        target_size=(128,128),\n",
        "                        batch_size=32,\n",
        "                        class_mode=\"categorical\")"
      ],
      "metadata": {
        "colab": {
          "base_uri": "https://localhost:8080/"
        },
        "id": "NF5Lkdmd6BVH",
        "outputId": "c27e65c4-0f43-4338-c8a7-9f15e436af7e"
      },
      "execution_count": 7,
      "outputs": [
        {
          "output_type": "stream",
          "name": "stdout",
          "text": [
            "Found 957 images belonging to 20 classes.\n",
            "Found 95 images belonging to 20 classes.\n"
          ]
        }
      ]
    },
    {
      "cell_type": "code",
      "source": [
        "print(\"match class: \", train_input.class_indices)\n",
        "print(\"Tổng cộng: \",train_input.num_classes)"
      ],
      "metadata": {
        "colab": {
          "base_uri": "https://localhost:8080/"
        },
        "id": "oM05GBARUcCd",
        "outputId": "c7581a78-c9ed-4fec-a09e-4f0730b52bab"
      },
      "execution_count": 8,
      "outputs": [
        {
          "output_type": "stream",
          "name": "stdout",
          "text": [
            "match class:  {'Huỳnh Phương': 0, 'Lí Hải': 1, 'MC Lại Văn Sâm': 2, 'MC Đại Nghĩa': 3, 'Mạc Văn khoa': 4, 'Misthy': 5, 'NSUT Hồng Vân': 6, 'Nguyễn Huy Hoàng': 7, 'Nguyễn Thị Kim Ngân': 8, 'Nhật Anh Trắng': 9, 'PewPew': 10, 'Phan Mạnh Quỳnh': 11, 'Phạm Nhật Vượng': 12, 'Quang Thắng': 13, 'Ribi Sachi Thuỷ': 14, 'Sơn Tùng MTP': 15, 'TT Nguyễn Xuân Phúc': 16, 'Vân Dung': 17, 'ViruSs': 18, 'Đàm Vĩnh Hưng': 19}\n",
            "Tổng cộng:  20\n"
          ]
        }
      ]
    },
    {
      "cell_type": "code",
      "source": [
        "#MODEL CNN\n",
        "model=Sequential()\n",
        "\n",
        "#LAYER 1\n",
        "model.add(Conv2D(32,(3,3),activation='relu',kernel_initializer='he_uniform',padding='same', input_shape=(128,128,3)))\n",
        "model.add(BatchNormalization())\n",
        "model.add(MaxPooling2D((2,2)))\n",
        "model.add(Dropout(0.25))\n",
        "#LAYER 2\n",
        "model.add(Conv2D(64,(3,3),activation='relu',kernel_initializer='he_uniform',padding='same'))\n",
        "model.add(BatchNormalization())\n",
        "model.add(MaxPooling2D((2,2)))\n",
        "model.add(Dropout(0.25))\n",
        "#LAYER 2\n",
        "model.add(Conv2D(64,(3,3),activation='relu',kernel_initializer='he_uniform',padding='same'))\n",
        "model.add(BatchNormalization())\n",
        "model.add(MaxPooling2D((2,2)))\n",
        "model.add(Dropout(0.25))\n",
        "#LAYER 3\n",
        "model.add(Conv2D(128,(3,3),activation='relu',kernel_initializer='he_uniform',padding='same'))\n",
        "model.add(MaxPooling2D((2,2)))\n",
        "model.add(Dropout(0.25))\n",
        "\n",
        "\n",
        "#FULLY CONNECTED LAYER\n",
        "#Flatten Layer is used to change the dimension of output from convolution layer, which has 3D, to 2D output\n",
        "model.add(Flatten())\n",
        "\n",
        "#Dense(512) is a fully-connected layer with 128 hidden units\n",
        "model.add(Dense(512,activation='relu'))\n",
        "model.add(Dropout(0.5))\n",
        "model.add(Dense(512,activation='relu'))\n",
        "model.add(Dropout(0.5))\n",
        "\n",
        "model.add(Dense(20,activation='softmax'))  #20 class_name\n",
        "model.summary()"
      ],
      "metadata": {
        "colab": {
          "base_uri": "https://localhost:8080/"
        },
        "id": "QZvvelW96FlA",
        "outputId": "bd2709c6-20c2-4ef4-f15e-83f73e52557b"
      },
      "execution_count": 11,
      "outputs": [
        {
          "output_type": "stream",
          "name": "stdout",
          "text": [
            "Model: \"sequential_2\"\n",
            "_________________________________________________________________\n",
            " Layer (type)                Output Shape              Param #   \n",
            "=================================================================\n",
            " conv2d_7 (Conv2D)           (None, 128, 128, 32)      896       \n",
            "                                                                 \n",
            " batch_normalization_5 (Batc  (None, 128, 128, 32)     128       \n",
            " hNormalization)                                                 \n",
            "                                                                 \n",
            " max_pooling2d_7 (MaxPooling  (None, 64, 64, 32)       0         \n",
            " 2D)                                                             \n",
            "                                                                 \n",
            " dropout_11 (Dropout)        (None, 64, 64, 32)        0         \n",
            "                                                                 \n",
            " conv2d_8 (Conv2D)           (None, 64, 64, 64)        18496     \n",
            "                                                                 \n",
            " batch_normalization_6 (Batc  (None, 64, 64, 64)       256       \n",
            " hNormalization)                                                 \n",
            "                                                                 \n",
            " max_pooling2d_8 (MaxPooling  (None, 32, 32, 64)       0         \n",
            " 2D)                                                             \n",
            "                                                                 \n",
            " dropout_12 (Dropout)        (None, 32, 32, 64)        0         \n",
            "                                                                 \n",
            " conv2d_9 (Conv2D)           (None, 32, 32, 64)        36928     \n",
            "                                                                 \n",
            " batch_normalization_7 (Batc  (None, 32, 32, 64)       256       \n",
            " hNormalization)                                                 \n",
            "                                                                 \n",
            " max_pooling2d_9 (MaxPooling  (None, 16, 16, 64)       0         \n",
            " 2D)                                                             \n",
            "                                                                 \n",
            " dropout_13 (Dropout)        (None, 16, 16, 64)        0         \n",
            "                                                                 \n",
            " conv2d_10 (Conv2D)          (None, 16, 16, 128)       73856     \n",
            "                                                                 \n",
            " max_pooling2d_10 (MaxPoolin  (None, 8, 8, 128)        0         \n",
            " g2D)                                                            \n",
            "                                                                 \n",
            " dropout_14 (Dropout)        (None, 8, 8, 128)         0         \n",
            "                                                                 \n",
            " flatten_2 (Flatten)         (None, 8192)              0         \n",
            "                                                                 \n",
            " dense_6 (Dense)             (None, 512)               4194816   \n",
            "                                                                 \n",
            " dropout_15 (Dropout)        (None, 512)               0         \n",
            "                                                                 \n",
            " dense_7 (Dense)             (None, 512)               262656    \n",
            "                                                                 \n",
            " dropout_16 (Dropout)        (None, 512)               0         \n",
            "                                                                 \n",
            " dense_8 (Dense)             (None, 20)                10260     \n",
            "                                                                 \n",
            "=================================================================\n",
            "Total params: 4,598,548\n",
            "Trainable params: 4,598,228\n",
            "Non-trainable params: 320\n",
            "_________________________________________________________________\n"
          ]
        }
      ]
    },
    {
      "cell_type": "code",
      "source": [
        "from tensorflow.keras.optimizers import Adam\n",
        "opt = Adam(learning_rate=0.005)\n",
        "model.compile(loss='categorical_crossentropy',optimizer='adam',metrics=['accuracy'])"
      ],
      "metadata": {
        "id": "KDP_JmW-65Ra"
      },
      "execution_count": 12,
      "outputs": []
    },
    {
      "cell_type": "code",
      "source": [
        "face_train = model.fit(train_input,batch_size=32,epochs=10,verbose=1,validation_data=val_input)"
      ],
      "metadata": {
        "colab": {
          "base_uri": "https://localhost:8080/"
        },
        "id": "DaQ6uoFr7Jqq",
        "outputId": "034fc1cc-7d8e-44de-8cd6-5e325c768fc7"
      },
      "execution_count": 25,
      "outputs": [
        {
          "output_type": "stream",
          "name": "stdout",
          "text": [
            "Epoch 1/10\n",
            "30/30 [==============================] - 10s 318ms/step - loss: 0.3133 - accuracy: 0.9018 - val_loss: 0.5935 - val_accuracy: 0.8421\n",
            "Epoch 2/10\n",
            "30/30 [==============================] - 6s 207ms/step - loss: 0.2966 - accuracy: 0.9028 - val_loss: 0.6784 - val_accuracy: 0.8211\n",
            "Epoch 3/10\n",
            "30/30 [==============================] - 6s 204ms/step - loss: 0.3816 - accuracy: 0.8924 - val_loss: 0.7535 - val_accuracy: 0.8421\n",
            "Epoch 4/10\n",
            "30/30 [==============================] - 6s 207ms/step - loss: 0.3511 - accuracy: 0.8871 - val_loss: 1.0123 - val_accuracy: 0.8000\n",
            "Epoch 5/10\n",
            "30/30 [==============================] - 6s 206ms/step - loss: 0.3455 - accuracy: 0.8913 - val_loss: 0.8775 - val_accuracy: 0.8105\n",
            "Epoch 6/10\n",
            "30/30 [==============================] - 6s 206ms/step - loss: 0.3222 - accuracy: 0.8997 - val_loss: 0.6473 - val_accuracy: 0.8000\n",
            "Epoch 7/10\n",
            "30/30 [==============================] - 6s 205ms/step - loss: 0.2900 - accuracy: 0.9091 - val_loss: 0.8883 - val_accuracy: 0.8105\n",
            "Epoch 8/10\n",
            "30/30 [==============================] - 6s 207ms/step - loss: 0.2889 - accuracy: 0.9060 - val_loss: 0.8101 - val_accuracy: 0.8211\n",
            "Epoch 9/10\n",
            "30/30 [==============================] - 6s 205ms/step - loss: 0.3183 - accuracy: 0.9112 - val_loss: 0.9675 - val_accuracy: 0.8316\n",
            "Epoch 10/10\n",
            "30/30 [==============================] - 7s 220ms/step - loss: 0.3068 - accuracy: 0.9060 - val_loss: 0.7384 - val_accuracy: 0.8000\n"
          ]
        }
      ]
    },
    {
      "cell_type": "code",
      "source": [
        "acc = face_train.history['accuracy']\n",
        "val_acc = face_train.history['val_accuracy']\n",
        "\n",
        "loss = face_train.history['loss']\n",
        "val_loss = face_train.history['val_loss']\n",
        "epochs_range=range(10)\n",
        "plt.figure(figsize=(10, 10))\n",
        "plt.subplot(1, 2, 1)\n",
        "plt.plot(epochs_range, acc, label='Training Accuracy')\n",
        "plt.plot(epochs_range, val_acc, label='Validation Accuracy')\n",
        "plt.legend(loc='lower right')\n",
        "plt.title('Training and Validation Accuracy')\n",
        "plt.show()"
      ],
      "metadata": {
        "colab": {
          "base_uri": "https://localhost:8080/",
          "height": 607
        },
        "id": "32Sbd5989Mhn",
        "outputId": "4b20603e-92e9-4a4b-c9ba-8f6151b1be06"
      },
      "execution_count": 26,
      "outputs": [
        {
          "output_type": "display_data",
          "data": {
            "text/plain": [
              "<Figure size 720x720 with 1 Axes>"
            ],
            "image/png": "[encoded data removed]"
          },
          "metadata": {
            "needs_background": "light"
          }
        }
      ]
    },
    {
      "cell_type": "code",
      "source": [
        "tfjs.converters.save_keras_model(model,'models')"
      ],
      "metadata": {
        "id": "Pbhyt-fq9OO0"
      },
      "execution_count": 27,
      "outputs": []
    },
    {
      "cell_type": "code",
      "source": [
        ""
      ],
      "metadata": {
        "id": "UJIHusQdHUDo"
      },
      "execution_count": null,
      "outputs": []
    }
  ]
}