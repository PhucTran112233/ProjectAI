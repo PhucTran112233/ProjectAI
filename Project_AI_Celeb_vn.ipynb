{
  "nbformat": 4,
  "nbformat_minor": 0,
  "metadata": {
    "colab": {
      "name": "Project_AI_Celeb_vn.ipynb",
      "provenance": [],
      "authorship_tag": "ABX9TyOVrBvvgmjCmZKB2y7qrStj",
      "include_colab_link": true
    },
    "kernelspec": {
      "name": "python3",
      "display_name": "Python 3"
    },
    "language_info": {
      "name": "python"
    },
    "accelerator": "GPU",
    "gpuClass": "standard"
  },
  "cells": [
    {
      "cell_type": "markdown",
      "metadata": {
        "id": "view-in-github",
        "colab_type": "text"
      },
      "source": [
        "<a href=\"https://colab.research.google.com/github/PhucTran112233/ProjectAI/blob/main/Project_AI_Celeb_vn.ipynb\" target=\"_parent\"><img src=\"https://colab.research.google.com/assets/colab-badge.svg\" alt=\"Open In Colab\"/></a>"
      ]
    },
    {
      "cell_type": "code",
      "execution_count": null,
      "metadata": {
        "id": "bTxyKGyu5swY"
      },
      "outputs": [],
      "source": [
        "!pip install tensorflowjs"
      ]
    },
    {
      "cell_type": "code",
      "source": [
        "# liên kết Google drive với colab\n",
        "from google.colab import drive\n",
        "drive.mount('/content/drive')"
      ],
      "metadata": {
        "colab": {
          "base_uri": "https://localhost:8080/"
        },
        "id": "AQOV_Z8I5z92",
        "outputId": "042d1745-7e07-43b4-a062-482e6c2392f4"
      },
      "execution_count": 1,
      "outputs": [
        {
          "output_type": "stream",
          "name": "stdout",
          "text": [
            "Mounted at /content/drive\n"
          ]
        }
      ]
    },
    {
      "cell_type": "code",
      "source": [
        "# Tải thư viện cần thiết\n",
        "import numpy as np\n",
        "import matplotlib.pyplot as plt\n",
        "import tensorflow as tf\n",
        "import pandas as pd\n",
        "from keras.preprocessing.image import ImageDataGenerator\n",
        "from keras.layers import Dense,Activation,Dropout,Conv2D,MaxPooling2D,Flatten\n",
        "from tensorflow.keras.models import load_model\n",
        "from keras.models import  Sequential\n",
        "from keras import regularizers\n",
        "from keras import layers\n",
        "import tensorflowjs as tfjs\n",
        "from keras.layers import BatchNormalization\n",
        "import cv2"
      ],
      "metadata": {
        "id": "omukUFHm57SQ"
      },
      "execution_count": 2,
      "outputs": []
    },
    {
      "cell_type": "code",
      "source": [
        "train_data = '/content/drive/MyDrive/AI_4/Train'\n",
        "val_data =  '/content/drive/MyDrive/AI_4/Validation'"
      ],
      "metadata": {
        "id": "DpVReU8L5_w8"
      },
      "execution_count": 6,
      "outputs": []
    },
    {
      "cell_type": "code",
      "source": [
        "#preprocessing\n",
        "train_scale = ImageDataGenerator(  rescale=1./255,\n",
        "                                   rotation_range=0.2,\n",
        "                                   width_shift_range=0.2,   \n",
        "                                   height_shift_range=0.2,\n",
        "                                   horizontal_flip=True, \n",
        "                                   vertical_flip=True,\n",
        "                                   validation_split=0.2)\n",
        "\n",
        "train_input = train_scale.flow_from_directory(train_data,\n",
        "                        target_size=(128, 128),\n",
        "                        batch_size=32,\n",
        "                        class_mode=\"categorical\")\n",
        "\n",
        "val_scale = ImageDataGenerator(rescale=1./255)\n",
        "\n",
        "val_input = val_scale.flow_from_directory(val_data,\n",
        "                        target_size=(128,128),\n",
        "                        batch_size=32,\n",
        "                        class_mode=\"categorical\")"
      ],
      "metadata": {
        "colab": {
          "base_uri": "https://localhost:8080/"
        },
        "id": "NF5Lkdmd6BVH",
        "outputId": "c27e65c4-0f43-4338-c8a7-9f15e436af7e"
      },
      "execution_count": 7,
      "outputs": [
        {
          "output_type": "stream",
          "name": "stdout",
          "text": [
            "Found 957 images belonging to 20 classes.\n",
            "Found 95 images belonging to 20 classes.\n"
          ]
        }
      ]
    },
    {
      "cell_type": "code",
      "source": [
        "print(\"match class: \", train_input.class_indices)\n",
        "print(\"Tổng cộng: \",train_input.num_classes)"
      ],
      "metadata": {
        "colab": {
          "base_uri": "https://localhost:8080/"
        },
        "id": "oM05GBARUcCd",
        "outputId": "c7581a78-c9ed-4fec-a09e-4f0730b52bab"
      },
      "execution_count": 8,
      "outputs": [
        {
          "output_type": "stream",
          "name": "stdout",
          "text": [
            "match class:  {'Huỳnh Phương': 0, 'Lí Hải': 1, 'MC Lại Văn Sâm': 2, 'MC Đại Nghĩa': 3, 'Mạc Văn khoa': 4, 'Misthy': 5, 'NSUT Hồng Vân': 6, 'Nguyễn Huy Hoàng': 7, 'Nguyễn Thị Kim Ngân': 8, 'Nhật Anh Trắng': 9, 'PewPew': 10, 'Phan Mạnh Quỳnh': 11, 'Phạm Nhật Vượng': 12, 'Quang Thắng': 13, 'Ribi Sachi Thuỷ': 14, 'Sơn Tùng MTP': 15, 'TT Nguyễn Xuân Phúc': 16, 'Vân Dung': 17, 'ViruSs': 18, 'Đàm Vĩnh Hưng': 19}\n",
            "Tổng cộng:  20\n"
          ]
        }
      ]
    },
    {
      "cell_type": "code",
      "source": [
        "#MODEL CNN\n",
        "model=Sequential()\n",
        "\n",
        "#LAYER 1\n",
        "model.add(Conv2D(32,(3,3),activation='relu',kernel_initializer='he_uniform',padding='same', input_shape=(128,128,3)))\n",
        "model.add(BatchNormalization())\n",
        "model.add(MaxPooling2D((2,2)))\n",
        "model.add(Dropout(0.25))\n",
        "#LAYER 2\n",
        "model.add(Conv2D(64,(3,3),activation='relu',kernel_initializer='he_uniform',padding='same'))\n",
        "model.add(BatchNormalization())\n",
        "model.add(MaxPooling2D((2,2)))\n",
        "model.add(Dropout(0.25))\n",
        "#LAYER 2\n",
        "model.add(Conv2D(64,(3,3),activation='relu',kernel_initializer='he_uniform',padding='same'))\n",
        "model.add(BatchNormalization())\n",
        "model.add(MaxPooling2D((2,2)))\n",
        "model.add(Dropout(0.25))\n",
        "#LAYER 3\n",
        "model.add(Conv2D(128,(3,3),activation='relu',kernel_initializer='he_uniform',padding='same'))\n",
        "model.add(MaxPooling2D((2,2)))\n",
        "model.add(Dropout(0.25))\n",
        "\n",
        "\n",
        "#FULLY CONNECTED LAYER\n",
        "#Flatten Layer is used to change the dimension of output from convolution layer, which has 3D, to 2D output\n",
        "model.add(Flatten())\n",
        "\n",
        "#Dense(512) is a fully-connected layer with 128 hidden units\n",
        "model.add(Dense(512,activation='relu'))\n",
        "model.add(Dropout(0.5))\n",
        "model.add(Dense(512,activation='relu'))\n",
        "model.add(Dropout(0.5))\n",
        "\n",
        "model.add(Dense(20,activation='softmax'))  #20 class_name\n",
        "model.summary()"
      ],
      "metadata": {
        "colab": {
          "base_uri": "https://localhost:8080/"
        },
        "id": "QZvvelW96FlA",
        "outputId": "bd2709c6-20c2-4ef4-f15e-83f73e52557b"
      },
      "execution_count": 11,
      "outputs": [
        {
          "output_type": "stream",
          "name": "stdout",
          "text": [
            "Model: \"sequential_2\"\n",
            "_________________________________________________________________\n",
            " Layer (type)                Output Shape              Param #   \n",
            "=================================================================\n",
            " conv2d_7 (Conv2D)           (None, 128, 128, 32)      896       \n",
            "                                                                 \n",
            " batch_normalization_5 (Batc  (None, 128, 128, 32)     128       \n",
            " hNormalization)                                                 \n",
            "                                                                 \n",
            " max_pooling2d_7 (MaxPooling  (None, 64, 64, 32)       0         \n",
            " 2D)                                                             \n",
            "                                                                 \n",
            " dropout_11 (Dropout)        (None, 64, 64, 32)        0         \n",
            "                                                                 \n",
            " conv2d_8 (Conv2D)           (None, 64, 64, 64)        18496     \n",
            "                                                                 \n",
            " batch_normalization_6 (Batc  (None, 64, 64, 64)       256       \n",
            " hNormalization)                                                 \n",
            "                                                                 \n",
            " max_pooling2d_8 (MaxPooling  (None, 32, 32, 64)       0         \n",
            " 2D)                                                             \n",
            "                                                                 \n",
            " dropout_12 (Dropout)        (None, 32, 32, 64)        0         \n",
            "                                                                 \n",
            " conv2d_9 (Conv2D)           (None, 32, 32, 64)        36928     \n",
            "                                                                 \n",
            " batch_normalization_7 (Batc  (None, 32, 32, 64)       256       \n",
            " hNormalization)                                                 \n",
            "                                                                 \n",
            " max_pooling2d_9 (MaxPooling  (None, 16, 16, 64)       0         \n",
            " 2D)                                                             \n",
            "                                                                 \n",
            " dropout_13 (Dropout)        (None, 16, 16, 64)        0         \n",
            "                                                                 \n",
            " conv2d_10 (Conv2D)          (None, 16, 16, 128)       73856     \n",
            "                                                                 \n",
            " max_pooling2d_10 (MaxPoolin  (None, 8, 8, 128)        0         \n",
            " g2D)                                                            \n",
            "                                                                 \n",
            " dropout_14 (Dropout)        (None, 8, 8, 128)         0         \n",
            "                                                                 \n",
            " flatten_2 (Flatten)         (None, 8192)              0         \n",
            "                                                                 \n",
            " dense_6 (Dense)             (None, 512)               4194816   \n",
            "                                                                 \n",
            " dropout_15 (Dropout)        (None, 512)               0         \n",
            "                                                                 \n",
            " dense_7 (Dense)             (None, 512)               262656    \n",
            "                                                                 \n",
            " dropout_16 (Dropout)        (None, 512)               0         \n",
            "                                                                 \n",
            " dense_8 (Dense)             (None, 20)                10260     \n",
            "                                                                 \n",
            "=================================================================\n",
            "Total params: 4,598,548\n",
            "Trainable params: 4,598,228\n",
            "Non-trainable params: 320\n",
            "_________________________________________________________________\n"
          ]
        }
      ]
    },
    {
      "cell_type": "code",
      "source": [
        "from tensorflow.keras.optimizers import Adam\n",
        "opt = Adam(learning_rate=0.005)\n",
        "model.compile(loss='categorical_crossentropy',optimizer='adam',metrics=['accuracy'])"
      ],
      "metadata": {
        "id": "KDP_JmW-65Ra"
      },
      "execution_count": 12,
      "outputs": []
    },
    {
      "cell_type": "code",
      "source": [
        "face_train = model.fit(train_input,batch_size=32,epochs=150,verbose=1,validation_data=val_input)"
      ],
      "metadata": {
        "colab": {
          "base_uri": "https://localhost:8080/"
        },
        "id": "DaQ6uoFr7Jqq",
        "outputId": "a56935f8-7eb7-47a0-8bb7-cb5265f79346"
      },
      "execution_count": 14,
      "outputs": [
        {
          "output_type": "stream",
          "name": "stdout",
          "text": [
            "Epoch 1/150\n",
            "30/30 [==============================] - 6s 209ms/step - loss: 1.3101 - accuracy: 0.5862 - val_loss: 1.6541 - val_accuracy: 0.4947\n",
            "Epoch 2/150\n",
            "30/30 [==============================] - 6s 205ms/step - loss: 1.3658 - accuracy: 0.5590 - val_loss: 1.0063 - val_accuracy: 0.6842\n",
            "Epoch 3/150\n",
            "30/30 [==============================] - 6s 206ms/step - loss: 1.3114 - accuracy: 0.5967 - val_loss: 1.0153 - val_accuracy: 0.7053\n",
            "Epoch 4/150\n",
            "30/30 [==============================] - 6s 208ms/step - loss: 1.3655 - accuracy: 0.5799 - val_loss: 1.0463 - val_accuracy: 0.6632\n",
            "Epoch 5/150\n",
            "30/30 [==============================] - 6s 204ms/step - loss: 1.3546 - accuracy: 0.5726 - val_loss: 1.1509 - val_accuracy: 0.5684\n",
            "Epoch 6/150\n",
            "30/30 [==============================] - 6s 204ms/step - loss: 1.3139 - accuracy: 0.5862 - val_loss: 3.1259 - val_accuracy: 0.2737\n",
            "Epoch 7/150\n",
            "30/30 [==============================] - 6s 207ms/step - loss: 1.2750 - accuracy: 0.5810 - val_loss: 0.9808 - val_accuracy: 0.6842\n",
            "Epoch 8/150\n",
            "30/30 [==============================] - 6s 206ms/step - loss: 1.2728 - accuracy: 0.6050 - val_loss: 0.9861 - val_accuracy: 0.6632\n",
            "Epoch 9/150\n",
            "30/30 [==============================] - 6s 206ms/step - loss: 1.2527 - accuracy: 0.5862 - val_loss: 0.8974 - val_accuracy: 0.6947\n",
            "Epoch 10/150\n",
            "30/30 [==============================] - 6s 202ms/step - loss: 1.3447 - accuracy: 0.5695 - val_loss: 1.1433 - val_accuracy: 0.6632\n",
            "Epoch 11/150\n",
            "30/30 [==============================] - 6s 204ms/step - loss: 1.3514 - accuracy: 0.5789 - val_loss: 1.1745 - val_accuracy: 0.5789\n",
            "Epoch 12/150\n",
            "30/30 [==============================] - 6s 205ms/step - loss: 1.2796 - accuracy: 0.5998 - val_loss: 1.0051 - val_accuracy: 0.7368\n",
            "Epoch 13/150\n",
            "30/30 [==============================] - 6s 207ms/step - loss: 1.3167 - accuracy: 0.5893 - val_loss: 1.0325 - val_accuracy: 0.7053\n",
            "Epoch 14/150\n",
            "30/30 [==============================] - 6s 206ms/step - loss: 1.3230 - accuracy: 0.5841 - val_loss: 0.9500 - val_accuracy: 0.6947\n",
            "Epoch 15/150\n",
            "30/30 [==============================] - 6s 205ms/step - loss: 1.2850 - accuracy: 0.5925 - val_loss: 0.8678 - val_accuracy: 0.7684\n",
            "Epoch 16/150\n",
            "30/30 [==============================] - 6s 206ms/step - loss: 1.2904 - accuracy: 0.5987 - val_loss: 1.1190 - val_accuracy: 0.6737\n",
            "Epoch 17/150\n",
            "30/30 [==============================] - 6s 206ms/step - loss: 1.2355 - accuracy: 0.6082 - val_loss: 1.3695 - val_accuracy: 0.6000\n",
            "Epoch 18/150\n",
            "30/30 [==============================] - 6s 203ms/step - loss: 1.2502 - accuracy: 0.6008 - val_loss: 1.3105 - val_accuracy: 0.6105\n",
            "Epoch 19/150\n",
            "30/30 [==============================] - 6s 204ms/step - loss: 1.1507 - accuracy: 0.6458 - val_loss: 0.9756 - val_accuracy: 0.7263\n",
            "Epoch 20/150\n",
            "30/30 [==============================] - 6s 205ms/step - loss: 1.3012 - accuracy: 0.5831 - val_loss: 1.3282 - val_accuracy: 0.6105\n",
            "Epoch 21/150\n",
            "30/30 [==============================] - 6s 212ms/step - loss: 1.2516 - accuracy: 0.5925 - val_loss: 0.9326 - val_accuracy: 0.6842\n",
            "Epoch 22/150\n",
            "30/30 [==============================] - 6s 212ms/step - loss: 1.2594 - accuracy: 0.5987 - val_loss: 1.0190 - val_accuracy: 0.6737\n",
            "Epoch 23/150\n",
            "30/30 [==============================] - 6s 208ms/step - loss: 1.2788 - accuracy: 0.5904 - val_loss: 1.1215 - val_accuracy: 0.7053\n",
            "Epoch 24/150\n",
            "30/30 [==============================] - 6s 206ms/step - loss: 1.2509 - accuracy: 0.6165 - val_loss: 0.9120 - val_accuracy: 0.7263\n",
            "Epoch 25/150\n",
            "30/30 [==============================] - 6s 206ms/step - loss: 1.2772 - accuracy: 0.6040 - val_loss: 0.9919 - val_accuracy: 0.7053\n",
            "Epoch 26/150\n",
            "30/30 [==============================] - 6s 205ms/step - loss: 1.2966 - accuracy: 0.5987 - val_loss: 1.4331 - val_accuracy: 0.5895\n",
            "Epoch 27/150\n",
            "30/30 [==============================] - 6s 206ms/step - loss: 1.2081 - accuracy: 0.6071 - val_loss: 0.9753 - val_accuracy: 0.6737\n",
            "Epoch 28/150\n",
            "30/30 [==============================] - 6s 204ms/step - loss: 1.2105 - accuracy: 0.6050 - val_loss: 1.1463 - val_accuracy: 0.6105\n",
            "Epoch 29/150\n",
            "30/30 [==============================] - 6s 204ms/step - loss: 1.2069 - accuracy: 0.6280 - val_loss: 0.9616 - val_accuracy: 0.6526\n",
            "Epoch 30/150\n",
            "30/30 [==============================] - 6s 206ms/step - loss: 1.2563 - accuracy: 0.6144 - val_loss: 0.9297 - val_accuracy: 0.7263\n",
            "Epoch 31/150\n",
            "30/30 [==============================] - 6s 203ms/step - loss: 1.1848 - accuracy: 0.6165 - val_loss: 0.8190 - val_accuracy: 0.7368\n",
            "Epoch 32/150\n",
            "30/30 [==============================] - 6s 205ms/step - loss: 1.1757 - accuracy: 0.6416 - val_loss: 0.9300 - val_accuracy: 0.7263\n",
            "Epoch 33/150\n",
            "30/30 [==============================] - 6s 205ms/step - loss: 1.1945 - accuracy: 0.6123 - val_loss: 1.0314 - val_accuracy: 0.6421\n",
            "Epoch 34/150\n",
            "30/30 [==============================] - 6s 206ms/step - loss: 1.2531 - accuracy: 0.6092 - val_loss: 0.8644 - val_accuracy: 0.7158\n",
            "Epoch 35/150\n",
            "30/30 [==============================] - 6s 206ms/step - loss: 1.1429 - accuracy: 0.6395 - val_loss: 0.8088 - val_accuracy: 0.7684\n",
            "Epoch 36/150\n",
            "30/30 [==============================] - 6s 206ms/step - loss: 1.1439 - accuracy: 0.6270 - val_loss: 0.8808 - val_accuracy: 0.7368\n",
            "Epoch 37/150\n",
            "30/30 [==============================] - 6s 204ms/step - loss: 1.1245 - accuracy: 0.6301 - val_loss: 1.3321 - val_accuracy: 0.5579\n",
            "Epoch 38/150\n",
            "30/30 [==============================] - 6s 207ms/step - loss: 1.1133 - accuracy: 0.6594 - val_loss: 0.8923 - val_accuracy: 0.7158\n",
            "Epoch 39/150\n",
            "30/30 [==============================] - 6s 209ms/step - loss: 1.1885 - accuracy: 0.6270 - val_loss: 0.9681 - val_accuracy: 0.7053\n",
            "Epoch 40/150\n",
            "30/30 [==============================] - 6s 208ms/step - loss: 1.1086 - accuracy: 0.6322 - val_loss: 0.8386 - val_accuracy: 0.7158\n",
            "Epoch 41/150\n",
            "30/30 [==============================] - 6s 210ms/step - loss: 1.1359 - accuracy: 0.6531 - val_loss: 0.7886 - val_accuracy: 0.7263\n",
            "Epoch 42/150\n",
            "30/30 [==============================] - 6s 205ms/step - loss: 1.1451 - accuracy: 0.6520 - val_loss: 0.9145 - val_accuracy: 0.6842\n",
            "Epoch 43/150\n",
            "30/30 [==============================] - 6s 206ms/step - loss: 1.1623 - accuracy: 0.6176 - val_loss: 1.3200 - val_accuracy: 0.5789\n",
            "Epoch 44/150\n",
            "30/30 [==============================] - 6s 207ms/step - loss: 1.1430 - accuracy: 0.6353 - val_loss: 0.9775 - val_accuracy: 0.7053\n",
            "Epoch 45/150\n",
            "30/30 [==============================] - 6s 210ms/step - loss: 1.1933 - accuracy: 0.6217 - val_loss: 0.8287 - val_accuracy: 0.7789\n",
            "Epoch 46/150\n",
            "30/30 [==============================] - 7s 223ms/step - loss: 1.2282 - accuracy: 0.6207 - val_loss: 1.1093 - val_accuracy: 0.6211\n",
            "Epoch 47/150\n",
            "30/30 [==============================] - 6s 210ms/step - loss: 1.1851 - accuracy: 0.6447 - val_loss: 0.8186 - val_accuracy: 0.7368\n",
            "Epoch 48/150\n",
            "30/30 [==============================] - 6s 214ms/step - loss: 1.1516 - accuracy: 0.6520 - val_loss: 1.0245 - val_accuracy: 0.7158\n",
            "Epoch 49/150\n",
            "30/30 [==============================] - 6s 209ms/step - loss: 1.1079 - accuracy: 0.6426 - val_loss: 0.8870 - val_accuracy: 0.6842\n",
            "Epoch 50/150\n",
            "30/30 [==============================] - 6s 211ms/step - loss: 1.1221 - accuracy: 0.6656 - val_loss: 1.1431 - val_accuracy: 0.6526\n",
            "Epoch 51/150\n",
            "30/30 [==============================] - 7s 229ms/step - loss: 1.0882 - accuracy: 0.6499 - val_loss: 1.4112 - val_accuracy: 0.5053\n",
            "Epoch 52/150\n",
            "30/30 [==============================] - 7s 220ms/step - loss: 1.0635 - accuracy: 0.6865 - val_loss: 1.0467 - val_accuracy: 0.6632\n",
            "Epoch 53/150\n",
            "30/30 [==============================] - 6s 209ms/step - loss: 1.1212 - accuracy: 0.6604 - val_loss: 0.9689 - val_accuracy: 0.6632\n",
            "Epoch 54/150\n",
            "30/30 [==============================] - 6s 206ms/step - loss: 1.1266 - accuracy: 0.6426 - val_loss: 0.8110 - val_accuracy: 0.7158\n",
            "Epoch 55/150\n",
            "30/30 [==============================] - 6s 208ms/step - loss: 1.1000 - accuracy: 0.6656 - val_loss: 0.8250 - val_accuracy: 0.6737\n",
            "Epoch 56/150\n",
            "30/30 [==============================] - 6s 209ms/step - loss: 1.1102 - accuracy: 0.6301 - val_loss: 0.8543 - val_accuracy: 0.7158\n",
            "Epoch 57/150\n",
            "30/30 [==============================] - 6s 211ms/step - loss: 1.1142 - accuracy: 0.6520 - val_loss: 0.7831 - val_accuracy: 0.7789\n",
            "Epoch 58/150\n",
            "30/30 [==============================] - 6s 208ms/step - loss: 1.0776 - accuracy: 0.6719 - val_loss: 0.8416 - val_accuracy: 0.7789\n",
            "Epoch 59/150\n",
            "30/30 [==============================] - 6s 208ms/step - loss: 1.1347 - accuracy: 0.6510 - val_loss: 0.7892 - val_accuracy: 0.7158\n",
            "Epoch 60/150\n",
            "30/30 [==============================] - 6s 209ms/step - loss: 1.0145 - accuracy: 0.6740 - val_loss: 1.1996 - val_accuracy: 0.6105\n",
            "Epoch 61/150\n",
            "30/30 [==============================] - 6s 210ms/step - loss: 1.0820 - accuracy: 0.6656 - val_loss: 1.3177 - val_accuracy: 0.6000\n",
            "Epoch 62/150\n",
            "30/30 [==============================] - 6s 210ms/step - loss: 1.1513 - accuracy: 0.6322 - val_loss: 0.8758 - val_accuracy: 0.6947\n",
            "Epoch 63/150\n",
            "30/30 [==============================] - 6s 206ms/step - loss: 1.0431 - accuracy: 0.6583 - val_loss: 0.7617 - val_accuracy: 0.7368\n",
            "Epoch 64/150\n",
            "30/30 [==============================] - 6s 211ms/step - loss: 1.1368 - accuracy: 0.6405 - val_loss: 0.9426 - val_accuracy: 0.6737\n",
            "Epoch 65/150\n",
            "30/30 [==============================] - 6s 209ms/step - loss: 1.0607 - accuracy: 0.6489 - val_loss: 0.9429 - val_accuracy: 0.7368\n",
            "Epoch 66/150\n",
            "30/30 [==============================] - 6s 208ms/step - loss: 1.0029 - accuracy: 0.6761 - val_loss: 1.0692 - val_accuracy: 0.7053\n",
            "Epoch 67/150\n",
            "30/30 [==============================] - 6s 209ms/step - loss: 1.0367 - accuracy: 0.6823 - val_loss: 0.9180 - val_accuracy: 0.7263\n",
            "Epoch 68/150\n",
            "30/30 [==============================] - 6s 206ms/step - loss: 1.0310 - accuracy: 0.6897 - val_loss: 0.9937 - val_accuracy: 0.7368\n",
            "Epoch 69/150\n",
            "30/30 [==============================] - 6s 205ms/step - loss: 1.0600 - accuracy: 0.6740 - val_loss: 0.8602 - val_accuracy: 0.7579\n",
            "Epoch 70/150\n",
            "30/30 [==============================] - 6s 210ms/step - loss: 1.0719 - accuracy: 0.6729 - val_loss: 0.9769 - val_accuracy: 0.6632\n",
            "Epoch 71/150\n",
            "30/30 [==============================] - 6s 209ms/step - loss: 1.1107 - accuracy: 0.6604 - val_loss: 1.1195 - val_accuracy: 0.6632\n",
            "Epoch 72/150\n",
            "30/30 [==============================] - 6s 205ms/step - loss: 1.0592 - accuracy: 0.6635 - val_loss: 0.9710 - val_accuracy: 0.7263\n",
            "Epoch 73/150\n",
            "30/30 [==============================] - 6s 202ms/step - loss: 1.0454 - accuracy: 0.6698 - val_loss: 0.9362 - val_accuracy: 0.7368\n",
            "Epoch 74/150\n",
            "30/30 [==============================] - 6s 203ms/step - loss: 1.0541 - accuracy: 0.6625 - val_loss: 0.8869 - val_accuracy: 0.7263\n",
            "Epoch 75/150\n",
            "30/30 [==============================] - 6s 202ms/step - loss: 0.9620 - accuracy: 0.6970 - val_loss: 0.7586 - val_accuracy: 0.7474\n",
            "Epoch 76/150\n",
            "30/30 [==============================] - 6s 203ms/step - loss: 1.0527 - accuracy: 0.6729 - val_loss: 0.8688 - val_accuracy: 0.7263\n",
            "Epoch 77/150\n",
            "30/30 [==============================] - 6s 202ms/step - loss: 1.0063 - accuracy: 0.6667 - val_loss: 0.7824 - val_accuracy: 0.7579\n",
            "Epoch 78/150\n",
            "30/30 [==============================] - 6s 202ms/step - loss: 1.0400 - accuracy: 0.6844 - val_loss: 1.0233 - val_accuracy: 0.6632\n",
            "Epoch 79/150\n",
            "30/30 [==============================] - 6s 202ms/step - loss: 0.9763 - accuracy: 0.6677 - val_loss: 0.7997 - val_accuracy: 0.7579\n",
            "Epoch 80/150\n",
            "30/30 [==============================] - 6s 203ms/step - loss: 0.9510 - accuracy: 0.7001 - val_loss: 0.7314 - val_accuracy: 0.7579\n",
            "Epoch 81/150\n",
            "30/30 [==============================] - 6s 204ms/step - loss: 1.0784 - accuracy: 0.6708 - val_loss: 1.3338 - val_accuracy: 0.6211\n",
            "Epoch 82/150\n",
            "30/30 [==============================] - 6s 205ms/step - loss: 1.0414 - accuracy: 0.7053 - val_loss: 0.8211 - val_accuracy: 0.7474\n",
            "Epoch 83/150\n",
            "30/30 [==============================] - 6s 201ms/step - loss: 0.9806 - accuracy: 0.7022 - val_loss: 1.2664 - val_accuracy: 0.6632\n",
            "Epoch 84/150\n",
            "30/30 [==============================] - 6s 202ms/step - loss: 0.9814 - accuracy: 0.6886 - val_loss: 0.7481 - val_accuracy: 0.7895\n",
            "Epoch 85/150\n",
            "30/30 [==============================] - 6s 205ms/step - loss: 1.0575 - accuracy: 0.6782 - val_loss: 0.8455 - val_accuracy: 0.6947\n",
            "Epoch 86/150\n",
            "30/30 [==============================] - 6s 205ms/step - loss: 1.0297 - accuracy: 0.6897 - val_loss: 0.7272 - val_accuracy: 0.7579\n",
            "Epoch 87/150\n",
            "30/30 [==============================] - 6s 201ms/step - loss: 0.9730 - accuracy: 0.6876 - val_loss: 0.7604 - val_accuracy: 0.7368\n",
            "Epoch 88/150\n",
            "30/30 [==============================] - 6s 200ms/step - loss: 0.9946 - accuracy: 0.6970 - val_loss: 0.9567 - val_accuracy: 0.7053\n",
            "Epoch 89/150\n",
            "30/30 [==============================] - 6s 202ms/step - loss: 0.9243 - accuracy: 0.6928 - val_loss: 1.0485 - val_accuracy: 0.6316\n",
            "Epoch 90/150\n",
            "30/30 [==============================] - 6s 204ms/step - loss: 0.9598 - accuracy: 0.6907 - val_loss: 0.9032 - val_accuracy: 0.7579\n",
            "Epoch 91/150\n",
            "30/30 [==============================] - 6s 204ms/step - loss: 0.9438 - accuracy: 0.6813 - val_loss: 0.7734 - val_accuracy: 0.7474\n",
            "Epoch 92/150\n",
            "30/30 [==============================] - 6s 202ms/step - loss: 1.0894 - accuracy: 0.6677 - val_loss: 1.6217 - val_accuracy: 0.5158\n",
            "Epoch 93/150\n",
            "30/30 [==============================] - 6s 203ms/step - loss: 1.0026 - accuracy: 0.6708 - val_loss: 0.7458 - val_accuracy: 0.7579\n",
            "Epoch 94/150\n",
            "30/30 [==============================] - 6s 204ms/step - loss: 1.0116 - accuracy: 0.6928 - val_loss: 0.7688 - val_accuracy: 0.7158\n",
            "Epoch 95/150\n",
            "30/30 [==============================] - 6s 202ms/step - loss: 0.9401 - accuracy: 0.6980 - val_loss: 0.9551 - val_accuracy: 0.7263\n",
            "Epoch 96/150\n",
            "30/30 [==============================] - 6s 204ms/step - loss: 0.8994 - accuracy: 0.7200 - val_loss: 1.9241 - val_accuracy: 0.5684\n",
            "Epoch 97/150\n",
            "30/30 [==============================] - 6s 203ms/step - loss: 0.9404 - accuracy: 0.6949 - val_loss: 0.7958 - val_accuracy: 0.7684\n",
            "Epoch 98/150\n",
            "30/30 [==============================] - 6s 204ms/step - loss: 0.9556 - accuracy: 0.6917 - val_loss: 0.9735 - val_accuracy: 0.6737\n",
            "Epoch 99/150\n",
            "30/30 [==============================] - 6s 203ms/step - loss: 0.9522 - accuracy: 0.7106 - val_loss: 0.7628 - val_accuracy: 0.7053\n",
            "Epoch 100/150\n",
            "30/30 [==============================] - 6s 205ms/step - loss: 0.9217 - accuracy: 0.7179 - val_loss: 0.7496 - val_accuracy: 0.7579\n",
            "Epoch 101/150\n",
            "30/30 [==============================] - 6s 201ms/step - loss: 0.9615 - accuracy: 0.7116 - val_loss: 1.3564 - val_accuracy: 0.5789\n",
            "Epoch 102/150\n",
            "30/30 [==============================] - 6s 201ms/step - loss: 0.9304 - accuracy: 0.7032 - val_loss: 0.6296 - val_accuracy: 0.8000\n",
            "Epoch 103/150\n",
            "30/30 [==============================] - 6s 201ms/step - loss: 0.8949 - accuracy: 0.7106 - val_loss: 0.7202 - val_accuracy: 0.7789\n",
            "Epoch 104/150\n",
            "30/30 [==============================] - 6s 200ms/step - loss: 0.9616 - accuracy: 0.6938 - val_loss: 1.0177 - val_accuracy: 0.7368\n",
            "Epoch 105/150\n",
            "30/30 [==============================] - 6s 203ms/step - loss: 0.9150 - accuracy: 0.7137 - val_loss: 0.6799 - val_accuracy: 0.7579\n",
            "Epoch 106/150\n",
            "30/30 [==============================] - 6s 202ms/step - loss: 0.9333 - accuracy: 0.7095 - val_loss: 1.0025 - val_accuracy: 0.7263\n",
            "Epoch 107/150\n",
            "30/30 [==============================] - 6s 203ms/step - loss: 0.9546 - accuracy: 0.7064 - val_loss: 0.7636 - val_accuracy: 0.7579\n",
            "Epoch 108/150\n",
            "30/30 [==============================] - 6s 201ms/step - loss: 0.9146 - accuracy: 0.7032 - val_loss: 0.9203 - val_accuracy: 0.6947\n",
            "Epoch 109/150\n",
            "30/30 [==============================] - 6s 200ms/step - loss: 0.9294 - accuracy: 0.7022 - val_loss: 0.7960 - val_accuracy: 0.7579\n",
            "Epoch 110/150\n",
            "30/30 [==============================] - 6s 205ms/step - loss: 0.9847 - accuracy: 0.7126 - val_loss: 0.7508 - val_accuracy: 0.7789\n",
            "Epoch 111/150\n",
            "30/30 [==============================] - 6s 204ms/step - loss: 0.9234 - accuracy: 0.7168 - val_loss: 1.0774 - val_accuracy: 0.7053\n",
            "Epoch 112/150\n",
            "30/30 [==============================] - 6s 203ms/step - loss: 0.9683 - accuracy: 0.7116 - val_loss: 1.3869 - val_accuracy: 0.5789\n",
            "Epoch 113/150\n",
            "30/30 [==============================] - 6s 203ms/step - loss: 0.9338 - accuracy: 0.7106 - val_loss: 0.7719 - val_accuracy: 0.7474\n",
            "Epoch 114/150\n",
            "30/30 [==============================] - 6s 200ms/step - loss: 0.8765 - accuracy: 0.7273 - val_loss: 0.8146 - val_accuracy: 0.7368\n",
            "Epoch 115/150\n",
            "30/30 [==============================] - 6s 201ms/step - loss: 0.9183 - accuracy: 0.7200 - val_loss: 0.8301 - val_accuracy: 0.7684\n",
            "Epoch 116/150\n",
            "30/30 [==============================] - 6s 201ms/step - loss: 0.9844 - accuracy: 0.6917 - val_loss: 1.0077 - val_accuracy: 0.6947\n",
            "Epoch 117/150\n",
            "30/30 [==============================] - 6s 202ms/step - loss: 0.9074 - accuracy: 0.6938 - val_loss: 0.8177 - val_accuracy: 0.7684\n",
            "Epoch 118/150\n",
            "30/30 [==============================] - 6s 201ms/step - loss: 0.8560 - accuracy: 0.7294 - val_loss: 0.9532 - val_accuracy: 0.6211\n",
            "Epoch 119/150\n",
            "30/30 [==============================] - 6s 200ms/step - loss: 0.8236 - accuracy: 0.7367 - val_loss: 0.7124 - val_accuracy: 0.7684\n",
            "Epoch 120/150\n",
            "30/30 [==============================] - 6s 206ms/step - loss: 0.9745 - accuracy: 0.7231 - val_loss: 0.6779 - val_accuracy: 0.7684\n",
            "Epoch 121/150\n",
            "30/30 [==============================] - 6s 206ms/step - loss: 0.8552 - accuracy: 0.7294 - val_loss: 0.6704 - val_accuracy: 0.8105\n",
            "Epoch 122/150\n",
            "30/30 [==============================] - 6s 208ms/step - loss: 0.8827 - accuracy: 0.7325 - val_loss: 0.7679 - val_accuracy: 0.7368\n",
            "Epoch 123/150\n",
            "30/30 [==============================] - 6s 202ms/step - loss: 0.8640 - accuracy: 0.7252 - val_loss: 0.9144 - val_accuracy: 0.7263\n",
            "Epoch 124/150\n",
            "30/30 [==============================] - 6s 203ms/step - loss: 0.8812 - accuracy: 0.7210 - val_loss: 0.8065 - val_accuracy: 0.7368\n",
            "Epoch 125/150\n",
            "30/30 [==============================] - 6s 203ms/step - loss: 0.9490 - accuracy: 0.7074 - val_loss: 0.8181 - val_accuracy: 0.7474\n",
            "Epoch 126/150\n",
            "30/30 [==============================] - 6s 202ms/step - loss: 0.8968 - accuracy: 0.7179 - val_loss: 0.7758 - val_accuracy: 0.7789\n",
            "Epoch 127/150\n",
            "30/30 [==============================] - 6s 203ms/step - loss: 0.8458 - accuracy: 0.7388 - val_loss: 0.6914 - val_accuracy: 0.7895\n",
            "Epoch 128/150\n",
            "30/30 [==============================] - 6s 205ms/step - loss: 0.9088 - accuracy: 0.7367 - val_loss: 0.7230 - val_accuracy: 0.7579\n",
            "Epoch 129/150\n",
            "30/30 [==============================] - 6s 204ms/step - loss: 0.8986 - accuracy: 0.7189 - val_loss: 0.7648 - val_accuracy: 0.7474\n",
            "Epoch 130/150\n",
            "30/30 [==============================] - 6s 205ms/step - loss: 0.8245 - accuracy: 0.7294 - val_loss: 0.8035 - val_accuracy: 0.6842\n",
            "Epoch 131/150\n",
            "30/30 [==============================] - 6s 204ms/step - loss: 0.9429 - accuracy: 0.7147 - val_loss: 0.9345 - val_accuracy: 0.7368\n",
            "Epoch 132/150\n",
            "30/30 [==============================] - 6s 201ms/step - loss: 0.9740 - accuracy: 0.6897 - val_loss: 0.7234 - val_accuracy: 0.7789\n",
            "Epoch 133/150\n",
            "30/30 [==============================] - 6s 204ms/step - loss: 0.8618 - accuracy: 0.7377 - val_loss: 0.6918 - val_accuracy: 0.7684\n",
            "Epoch 134/150\n",
            "30/30 [==============================] - 6s 202ms/step - loss: 0.8860 - accuracy: 0.7262 - val_loss: 0.9162 - val_accuracy: 0.7053\n",
            "Epoch 135/150\n",
            "30/30 [==============================] - 6s 206ms/step - loss: 0.8573 - accuracy: 0.7189 - val_loss: 0.6672 - val_accuracy: 0.7895\n",
            "Epoch 136/150\n",
            "30/30 [==============================] - 6s 205ms/step - loss: 0.8569 - accuracy: 0.7210 - val_loss: 0.6295 - val_accuracy: 0.7368\n",
            "Epoch 137/150\n",
            "30/30 [==============================] - 6s 205ms/step - loss: 0.9262 - accuracy: 0.7231 - val_loss: 0.7287 - val_accuracy: 0.7474\n",
            "Epoch 138/150\n",
            "30/30 [==============================] - 6s 204ms/step - loss: 0.8708 - accuracy: 0.7189 - val_loss: 0.8780 - val_accuracy: 0.7474\n",
            "Epoch 139/150\n",
            "30/30 [==============================] - 6s 204ms/step - loss: 0.8174 - accuracy: 0.7315 - val_loss: 0.6942 - val_accuracy: 0.7474\n",
            "Epoch 140/150\n",
            "30/30 [==============================] - 6s 206ms/step - loss: 0.8601 - accuracy: 0.7544 - val_loss: 0.6909 - val_accuracy: 0.7684\n",
            "Epoch 141/150\n",
            "30/30 [==============================] - 6s 201ms/step - loss: 0.7560 - accuracy: 0.7607 - val_loss: 0.6252 - val_accuracy: 0.7895\n",
            "Epoch 142/150\n",
            "30/30 [==============================] - 6s 204ms/step - loss: 0.8803 - accuracy: 0.7294 - val_loss: 0.7549 - val_accuracy: 0.7368\n",
            "Epoch 143/150\n",
            "30/30 [==============================] - 6s 204ms/step - loss: 0.9116 - accuracy: 0.7210 - val_loss: 0.8132 - val_accuracy: 0.7474\n",
            "Epoch 144/150\n",
            "30/30 [==============================] - 6s 203ms/step - loss: 0.9169 - accuracy: 0.7074 - val_loss: 0.9943 - val_accuracy: 0.6632\n",
            "Epoch 145/150\n",
            "30/30 [==============================] - 6s 204ms/step - loss: 0.8639 - accuracy: 0.7283 - val_loss: 0.6957 - val_accuracy: 0.7895\n",
            "Epoch 146/150\n",
            "30/30 [==============================] - 6s 204ms/step - loss: 0.7775 - accuracy: 0.7607 - val_loss: 0.5376 - val_accuracy: 0.8211\n",
            "Epoch 147/150\n",
            "30/30 [==============================] - 6s 205ms/step - loss: 0.7788 - accuracy: 0.7513 - val_loss: 0.7494 - val_accuracy: 0.7684\n",
            "Epoch 148/150\n",
            "30/30 [==============================] - 6s 202ms/step - loss: 0.7963 - accuracy: 0.7586 - val_loss: 0.6602 - val_accuracy: 0.8105\n",
            "Epoch 149/150\n",
            "30/30 [==============================] - 6s 202ms/step - loss: 0.7940 - accuracy: 0.7398 - val_loss: 0.7627 - val_accuracy: 0.7474\n",
            "Epoch 150/150\n",
            "30/30 [==============================] - 6s 205ms/step - loss: 0.8068 - accuracy: 0.7367 - val_loss: 0.6512 - val_accuracy: 0.8316\n"
          ]
        }
      ]
    },
    {
      "cell_type": "code",
      "source": [
        "acc = face_train.history['accuracy']\n",
        "val_acc = face_train.history['val_accuracy']\n",
        "\n",
        "loss = face_train.history['loss']\n",
        "val_loss = face_train.history['val_loss']\n",
        "epochs_range=range(150)\n",
        "plt.figure(figsize=(10, 10))\n",
        "plt.subplot(1, 2, 1)\n",
        "plt.plot(epochs_range, acc, label='Training Accuracy')\n",
        "plt.plot(epochs_range, val_acc, label='Validation Accuracy')\n",
        "plt.legend(loc='lower right')\n",
        "plt.title('Training and Validation Accuracy')\n",
        "plt.show()"
      ],
      "metadata": {
        "colab": {
          "base_uri": "https://localhost:8080/",
          "height": 607
        },
        "id": "32Sbd5989Mhn",
        "outputId": "b70ab90c-ae6d-40da-f72f-6c4f7a90f95a"
      },
      "execution_count": 15,
      "outputs": [
        {
          "output_type": "display_data",
          "data": {
            "text/plain": [
              "<Figure size 720x720 with 1 Axes>"
            ],
            "image/png": "[encoded data removed]"
          },
          "metadata": {
            "needs_background": "light"
          }
        }
      ]
    },
    {
      "cell_type": "code",
      "source": [
        "tfjs.converters.save_keras_model(model,'models')"
      ],
      "metadata": {
        "id": "Pbhyt-fq9OO0"
      },
      "execution_count": 16,
      "outputs": []
    },
    {
      "cell_type": "code",
      "source": [
        ""
      ],
      "metadata": {
        "id": "UJIHusQdHUDo"
      },
      "execution_count": null,
      "outputs": []
    }
  ]
}